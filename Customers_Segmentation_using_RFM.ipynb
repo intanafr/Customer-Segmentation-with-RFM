{
  "cells": [
    {
      "cell_type": "markdown",
      "source": [
        "# **Customer Segmentation Using RFM**"
      ],
      "metadata": {
        "id": "EZt_TxkNidi_"
      }
    },
    {
      "cell_type": "markdown",
      "source": [
        "## Mount google drive"
      ],
      "metadata": {
        "id": "9FoNEkA0YUN_"
      }
    },
    {
      "cell_type": "code",
      "source": [
        "from google.colab import drive\n",
        "drive.mount('/content/drive')"
      ],
      "metadata": {
        "colab": {
          "base_uri": "https://localhost:8080/"
        },
        "id": "69V3CW97YS7v",
        "outputId": "9a6c6dcd-6d2a-4220-da82-2d36df49ff56"
      },
      "execution_count": 16,
      "outputs": [
        {
          "output_type": "stream",
          "name": "stdout",
          "text": [
            "Drive already mounted at /content/drive; to attempt to forcibly remount, call drive.mount(\"/content/drive\", force_remount=True).\n"
          ]
        }
      ]
    },
    {
      "cell_type": "markdown",
      "source": [
        "##Import Library"
      ],
      "metadata": {
        "id": "w6YxOOBh2fX3"
      }
    },
    {
      "cell_type": "code",
      "metadata": {
        "_cell_guid": "fb109ad4-cdae-4e93-be9a-cff4f04dcfc4",
        "_uuid": "2b3bec228338f1149d7f9673ed7304064fa0d707",
        "trusted": true,
        "collapsed": true,
        "id": "6hvAa2xkjY5I",
        "cell_id": "c48b39e3-9697-46d5-9f79-bb75f00303b5",
        "deepnote_to_be_reexecuted": false,
        "source_hash": "eab7d7c9",
        "execution_start": 1653484647064,
        "execution_millis": 6604,
        "owner_user_id": "edd0cb9b-d2a8-40ea-99a3-4b72566dd59d",
        "deepnote_cell_type": "code",
        "deepnote_cell_height": 315
      },
      "source": [
        "import numpy as np # linear algebra\n",
        "import pandas as pd # data processing, CSV file I/O (e.g. pd.read_csv)\n",
        "import time, warnings\n",
        "import datetime as dt\n",
        "\n",
        "#visualizations\n",
        "import matplotlib.pyplot as plt\n",
        "from pandas.plotting import scatter_matrix\n",
        "%matplotlib inline\n",
        "import seaborn as sns\n",
        "\n",
        "warnings.filterwarnings(\"ignore\")"
      ],
      "outputs": [],
      "execution_count": 17
    },
    {
      "cell_type": "markdown",
      "source": [
        "# Get the Data"
      ],
      "metadata": {
        "_uuid": "e137fc6ce9df703c09de36e7d82ff59305b64b57",
        "id": "fBvSnNXfjY5M",
        "cell_id": "00001-e762f3d0-d93a-4361-99b8-03771e08d1da",
        "deepnote_cell_type": "markdown",
        "deepnote_cell_height": 82
      }
    },
    {
      "cell_type": "code",
      "metadata": {
        "trusted": true,
        "_uuid": "29f4d8a264683adbc8960d28b5fd3a3d2b476e7b",
        "colab": {
          "base_uri": "https://localhost:8080/",
          "height": 206
        },
        "id": "YlfnaH9pjY5O",
        "outputId": "14eefe08-1b61-4aaf-9490-c8b8bd84052e",
        "cell_id": "00002-696bf820-24e5-4515-ad14-8cc68bcb70a4",
        "deepnote_to_be_reexecuted": false,
        "source_hash": "d2b53d25",
        "execution_start": 1653484653669,
        "execution_millis": 2592,
        "deepnote_cell_type": "code",
        "deepnote_cell_height": 500
      },
      "source": [
        "#load the dataset\n",
        "retail_df = pd.read_csv('/content/drive/MyDrive/Myskill/Data/e-commerce.csv',encoding=\"ISO-8859-1\", dtype={'CustomerID': str})\n",
        "retail_df.head()"
      ],
      "outputs": [
        {
          "output_type": "execute_result",
          "data": {
            "text/plain": [
              "  InvoiceNo StockCode                          Description  Quantity  \\\n",
              "0    536365    85123A   WHITE HANGING HEART T-LIGHT HOLDER         6   \n",
              "1    536365     71053                  WHITE METAL LANTERN         6   \n",
              "2    536365    84406B       CREAM CUPID HEARTS COAT HANGER         8   \n",
              "3    536365    84029G  KNITTED UNION FLAG HOT WATER BOTTLE         6   \n",
              "4    536365    84029E       RED WOOLLY HOTTIE WHITE HEART.         6   \n",
              "\n",
              "      InvoiceDate  UnitPrice CustomerID         Country  \n",
              "0  12/1/2010 8:26       2.55      17850  United Kingdom  \n",
              "1  12/1/2010 8:26       3.39      17850  United Kingdom  \n",
              "2  12/1/2010 8:26       2.75      17850  United Kingdom  \n",
              "3  12/1/2010 8:26       3.39      17850  United Kingdom  \n",
              "4  12/1/2010 8:26       3.39      17850  United Kingdom  "
            ],
            "text/html": [
              "\n",
              "  <div id=\"df-1cbac582-b231-4d5c-8de3-46a70cd9d460\">\n",
              "    <div class=\"colab-df-container\">\n",
              "      <div>\n",
              "<style scoped>\n",
              "    .dataframe tbody tr th:only-of-type {\n",
              "        vertical-align: middle;\n",
              "    }\n",
              "\n",
              "    .dataframe tbody tr th {\n",
              "        vertical-align: top;\n",
              "    }\n",
              "\n",
              "    .dataframe thead th {\n",
              "        text-align: right;\n",
              "    }\n",
              "</style>\n",
              "<table border=\"1\" class=\"dataframe\">\n",
              "  <thead>\n",
              "    <tr style=\"text-align: right;\">\n",
              "      <th></th>\n",
              "      <th>InvoiceNo</th>\n",
              "      <th>StockCode</th>\n",
              "      <th>Description</th>\n",
              "      <th>Quantity</th>\n",
              "      <th>InvoiceDate</th>\n",
              "      <th>UnitPrice</th>\n",
              "      <th>CustomerID</th>\n",
              "      <th>Country</th>\n",
              "    </tr>\n",
              "  </thead>\n",
              "  <tbody>\n",
              "    <tr>\n",
              "      <th>0</th>\n",
              "      <td>536365</td>\n",
              "      <td>85123A</td>\n",
              "      <td>WHITE HANGING HEART T-LIGHT HOLDER</td>\n",
              "      <td>6</td>\n",
              "      <td>12/1/2010 8:26</td>\n",
              "      <td>2.55</td>\n",
              "      <td>17850</td>\n",
              "      <td>United Kingdom</td>\n",
              "    </tr>\n",
              "    <tr>\n",
              "      <th>1</th>\n",
              "      <td>536365</td>\n",
              "      <td>71053</td>\n",
              "      <td>WHITE METAL LANTERN</td>\n",
              "      <td>6</td>\n",
              "      <td>12/1/2010 8:26</td>\n",
              "      <td>3.39</td>\n",
              "      <td>17850</td>\n",
              "      <td>United Kingdom</td>\n",
              "    </tr>\n",
              "    <tr>\n",
              "      <th>2</th>\n",
              "      <td>536365</td>\n",
              "      <td>84406B</td>\n",
              "      <td>CREAM CUPID HEARTS COAT HANGER</td>\n",
              "      <td>8</td>\n",
              "      <td>12/1/2010 8:26</td>\n",
              "      <td>2.75</td>\n",
              "      <td>17850</td>\n",
              "      <td>United Kingdom</td>\n",
              "    </tr>\n",
              "    <tr>\n",
              "      <th>3</th>\n",
              "      <td>536365</td>\n",
              "      <td>84029G</td>\n",
              "      <td>KNITTED UNION FLAG HOT WATER BOTTLE</td>\n",
              "      <td>6</td>\n",
              "      <td>12/1/2010 8:26</td>\n",
              "      <td>3.39</td>\n",
              "      <td>17850</td>\n",
              "      <td>United Kingdom</td>\n",
              "    </tr>\n",
              "    <tr>\n",
              "      <th>4</th>\n",
              "      <td>536365</td>\n",
              "      <td>84029E</td>\n",
              "      <td>RED WOOLLY HOTTIE WHITE HEART.</td>\n",
              "      <td>6</td>\n",
              "      <td>12/1/2010 8:26</td>\n",
              "      <td>3.39</td>\n",
              "      <td>17850</td>\n",
              "      <td>United Kingdom</td>\n",
              "    </tr>\n",
              "  </tbody>\n",
              "</table>\n",
              "</div>\n",
              "      <button class=\"colab-df-convert\" onclick=\"convertToInteractive('df-1cbac582-b231-4d5c-8de3-46a70cd9d460')\"\n",
              "              title=\"Convert this dataframe to an interactive table.\"\n",
              "              style=\"display:none;\">\n",
              "        \n",
              "  <svg xmlns=\"http://www.w3.org/2000/svg\" height=\"24px\"viewBox=\"0 0 24 24\"\n",
              "       width=\"24px\">\n",
              "    <path d=\"M0 0h24v24H0V0z\" fill=\"none\"/>\n",
              "    <path d=\"M18.56 5.44l.94 2.06.94-2.06 2.06-.94-2.06-.94-.94-2.06-.94 2.06-2.06.94zm-11 1L8.5 8.5l.94-2.06 2.06-.94-2.06-.94L8.5 2.5l-.94 2.06-2.06.94zm10 10l.94 2.06.94-2.06 2.06-.94-2.06-.94-.94-2.06-.94 2.06-2.06.94z\"/><path d=\"M17.41 7.96l-1.37-1.37c-.4-.4-.92-.59-1.43-.59-.52 0-1.04.2-1.43.59L10.3 9.45l-7.72 7.72c-.78.78-.78 2.05 0 2.83L4 21.41c.39.39.9.59 1.41.59.51 0 1.02-.2 1.41-.59l7.78-7.78 2.81-2.81c.8-.78.8-2.07 0-2.86zM5.41 20L4 18.59l7.72-7.72 1.47 1.35L5.41 20z\"/>\n",
              "  </svg>\n",
              "      </button>\n",
              "      \n",
              "  <style>\n",
              "    .colab-df-container {\n",
              "      display:flex;\n",
              "      flex-wrap:wrap;\n",
              "      gap: 12px;\n",
              "    }\n",
              "\n",
              "    .colab-df-convert {\n",
              "      background-color: #E8F0FE;\n",
              "      border: none;\n",
              "      border-radius: 50%;\n",
              "      cursor: pointer;\n",
              "      display: none;\n",
              "      fill: #1967D2;\n",
              "      height: 32px;\n",
              "      padding: 0 0 0 0;\n",
              "      width: 32px;\n",
              "    }\n",
              "\n",
              "    .colab-df-convert:hover {\n",
              "      background-color: #E2EBFA;\n",
              "      box-shadow: 0px 1px 2px rgba(60, 64, 67, 0.3), 0px 1px 3px 1px rgba(60, 64, 67, 0.15);\n",
              "      fill: #174EA6;\n",
              "    }\n",
              "\n",
              "    [theme=dark] .colab-df-convert {\n",
              "      background-color: #3B4455;\n",
              "      fill: #D2E3FC;\n",
              "    }\n",
              "\n",
              "    [theme=dark] .colab-df-convert:hover {\n",
              "      background-color: #434B5C;\n",
              "      box-shadow: 0px 1px 3px 1px rgba(0, 0, 0, 0.15);\n",
              "      filter: drop-shadow(0px 1px 2px rgba(0, 0, 0, 0.3));\n",
              "      fill: #FFFFFF;\n",
              "    }\n",
              "  </style>\n",
              "\n",
              "      <script>\n",
              "        const buttonEl =\n",
              "          document.querySelector('#df-1cbac582-b231-4d5c-8de3-46a70cd9d460 button.colab-df-convert');\n",
              "        buttonEl.style.display =\n",
              "          google.colab.kernel.accessAllowed ? 'block' : 'none';\n",
              "\n",
              "        async function convertToInteractive(key) {\n",
              "          const element = document.querySelector('#df-1cbac582-b231-4d5c-8de3-46a70cd9d460');\n",
              "          const dataTable =\n",
              "            await google.colab.kernel.invokeFunction('convertToInteractive',\n",
              "                                                     [key], {});\n",
              "          if (!dataTable) return;\n",
              "\n",
              "          const docLinkHtml = 'Like what you see? Visit the ' +\n",
              "            '<a target=\"_blank\" href=https://colab.research.google.com/notebooks/data_table.ipynb>data table notebook</a>'\n",
              "            + ' to learn more about interactive tables.';\n",
              "          element.innerHTML = '';\n",
              "          dataTable['output_type'] = 'display_data';\n",
              "          await google.colab.output.renderOutput(dataTable, element);\n",
              "          const docLink = document.createElement('div');\n",
              "          docLink.innerHTML = docLinkHtml;\n",
              "          element.appendChild(docLink);\n",
              "        }\n",
              "      </script>\n",
              "    </div>\n",
              "  </div>\n",
              "  "
            ]
          },
          "metadata": {},
          "execution_count": 18
        }
      ],
      "execution_count": 18
    },
    {
      "cell_type": "code",
      "metadata": {
        "colab": {
          "base_uri": "https://localhost:8080/"
        },
        "id": "Ku4969GIkv2i",
        "outputId": "dda31436-6d45-4ece-f3d1-bc863e76424d",
        "cell_id": "00003-9421e81f-2919-49b1-9c5e-47d89dd31791",
        "deepnote_to_be_reexecuted": false,
        "source_hash": "c84c777f",
        "execution_start": 1653484656277,
        "execution_millis": 46,
        "deepnote_cell_type": "code",
        "deepnote_cell_height": 156.5625,
        "deepnote_output_heights": [
          59.5625
        ]
      },
      "source": [
        "retail_df.columns"
      ],
      "outputs": [
        {
          "output_type": "execute_result",
          "data": {
            "text/plain": [
              "Index(['InvoiceNo', 'StockCode', 'Description', 'Quantity', 'InvoiceDate',\n",
              "       'UnitPrice', 'CustomerID', 'Country'],\n",
              "      dtype='object')"
            ]
          },
          "metadata": {},
          "execution_count": 19
        }
      ],
      "execution_count": 19
    },
    {
      "cell_type": "code",
      "source": [
        "print(retail_df.info())"
      ],
      "metadata": {
        "colab": {
          "base_uri": "https://localhost:8080/"
        },
        "id": "2IeKK9C8eL6I",
        "outputId": "7a17b60a-002b-4754-ae3a-f70132118104"
      },
      "execution_count": 20,
      "outputs": [
        {
          "output_type": "stream",
          "name": "stdout",
          "text": [
            "<class 'pandas.core.frame.DataFrame'>\n",
            "RangeIndex: 541909 entries, 0 to 541908\n",
            "Data columns (total 8 columns):\n",
            " #   Column       Non-Null Count   Dtype  \n",
            "---  ------       --------------   -----  \n",
            " 0   InvoiceNo    541909 non-null  object \n",
            " 1   StockCode    541909 non-null  object \n",
            " 2   Description  540455 non-null  object \n",
            " 3   Quantity     541909 non-null  int64  \n",
            " 4   InvoiceDate  541909 non-null  object \n",
            " 5   UnitPrice    541909 non-null  float64\n",
            " 6   CustomerID   406829 non-null  object \n",
            " 7   Country      541909 non-null  object \n",
            "dtypes: float64(1), int64(1), object(6)\n",
            "memory usage: 33.1+ MB\n",
            "None\n"
          ]
        }
      ]
    },
    {
      "cell_type": "markdown",
      "source": [
        "# Prepare the Data"
      ],
      "metadata": {
        "collapsed": true,
        "trusted": true,
        "_uuid": "099bf79086b0d6952551457a1a634788d5744358",
        "id": "2-n_LpmNjY5O",
        "cell_id": "00004-7d84dd67-a98e-4169-8c65-288e51fb10ce",
        "deepnote_cell_type": "markdown",
        "deepnote_cell_height": 82
      }
    },
    {
      "cell_type": "markdown",
      "source": [
        "\n",
        "As customer clusters may vary by geography, I’ll restrict the data to only United Kingdom customers, which contains most of our customers historical data."
      ],
      "metadata": {
        "_uuid": "c275644686ab6b4348125a5d11db4faf3ee456cf",
        "id": "XZitsQBmjY5P",
        "cell_id": "00005-d3bb35e0-7ecb-4323-8ea2-fa9a4bc6b647",
        "deepnote_cell_type": "markdown",
        "deepnote_cell_height": 74.78125
      }
    },
    {
      "cell_type": "code",
      "metadata": {
        "trusted": true,
        "_uuid": "d1900198b2d6e77dd792bc419b966ac7d0542d58",
        "colab": {
          "base_uri": "https://localhost:8080/"
        },
        "id": "s_fMcpypjY5P",
        "outputId": "2a73e811-6034-4dc4-f6e9-8167748445c2",
        "cell_id": "00006-3e4cda4e-0dd2-4972-bc6c-cc7d9aefb06b",
        "deepnote_to_be_reexecuted": false,
        "source_hash": "7680a2a1",
        "execution_start": 1653484656322,
        "execution_millis": 313,
        "deepnote_cell_type": "code",
        "deepnote_cell_height": 154.1875,
        "deepnote_output_heights": [
          21.1875
        ]
      },
      "source": [
        "retail_uk = retail_df[retail_df['Country']=='United Kingdom']\n",
        "#check the shape\n",
        "retail_uk.shape"
      ],
      "outputs": [
        {
          "output_type": "execute_result",
          "data": {
            "text/plain": [
              "(495478, 8)"
            ]
          },
          "metadata": {},
          "execution_count": 21
        }
      ],
      "execution_count": 21
    },
    {
      "cell_type": "code",
      "metadata": {
        "trusted": true,
        "_uuid": "40481a3b8ec945bf95788f0f1a65fe0c616b1ceb",
        "colab": {
          "base_uri": "https://localhost:8080/"
        },
        "id": "PSUGjC6IjY5Q",
        "outputId": "38f12ff7-27a8-44c6-8327-742dcfe6215d",
        "cell_id": "00007-c1c77fd6-7190-4921-a521-c52830141a67",
        "deepnote_to_be_reexecuted": false,
        "source_hash": "2a1068b6",
        "execution_start": 1653484656644,
        "execution_millis": 560,
        "deepnote_cell_type": "code",
        "deepnote_cell_height": 154.1875,
        "deepnote_output_heights": [
          21.1875
        ]
      },
      "source": [
        "#remove canceled orders\n",
        "retail_uk = retail_uk[retail_uk['Quantity']>0]\n",
        "retail_uk.shape"
      ],
      "outputs": [
        {
          "output_type": "execute_result",
          "data": {
            "text/plain": [
              "(486286, 8)"
            ]
          },
          "metadata": {},
          "execution_count": 22
        }
      ],
      "execution_count": 22
    },
    {
      "cell_type": "code",
      "metadata": {
        "trusted": true,
        "_uuid": "28862d349a323fbfd5fb8fba0330edec6d6619de",
        "colab": {
          "base_uri": "https://localhost:8080/"
        },
        "id": "Cz6EfHmTjY5R",
        "outputId": "26752af0-bb6b-40df-e99a-0f7d8a914132",
        "cell_id": "00008-93868a66-ceae-46d5-a2b4-eab6e048804a",
        "deepnote_to_be_reexecuted": false,
        "source_hash": "ac32e0b2",
        "execution_start": 1653484656870,
        "execution_millis": 602,
        "deepnote_cell_type": "code",
        "deepnote_cell_height": 154.1875,
        "deepnote_output_heights": [
          21.1875
        ]
      },
      "source": [
        "#remove rows where customerID are NA\n",
        "retail_uk.dropna(subset=['CustomerID'],how='all',inplace=True)\n",
        "retail_uk.shape"
      ],
      "outputs": [
        {
          "output_type": "execute_result",
          "data": {
            "text/plain": [
              "(354345, 8)"
            ]
          },
          "metadata": {},
          "execution_count": 23
        }
      ],
      "execution_count": 23
    },
    {
      "cell_type": "code",
      "metadata": {
        "trusted": true,
        "_uuid": "f1da227215f3cc50400562e36da26dd663aac4af",
        "colab": {
          "base_uri": "https://localhost:8080/"
        },
        "id": "PtDU20OpjY5R",
        "outputId": "d7857846-6986-40c7-f186-9d5ccffd726e",
        "cell_id": "00009-54a488ff-a9b1-4e91-93bd-1355fe09f44f",
        "deepnote_to_be_reexecuted": false,
        "source_hash": "ba9302f7",
        "execution_start": 1653484657120,
        "execution_millis": 356,
        "deepnote_cell_type": "code",
        "deepnote_cell_height": 154.1875,
        "deepnote_output_heights": [
          21.1875
        ]
      },
      "source": [
        "#restrict the data to one full year because it's better to use a metric per Months or Years in RFM\n",
        "retail_uk = retail_uk[retail_uk['InvoiceDate']>= \"2010-12-09\"]\n",
        "retail_uk.shape"
      ],
      "outputs": [
        {
          "output_type": "execute_result",
          "data": {
            "text/plain": [
              "(176137, 8)"
            ]
          },
          "metadata": {},
          "execution_count": 24
        }
      ],
      "execution_count": 24
    },
    {
      "cell_type": "code",
      "metadata": {
        "trusted": true,
        "_uuid": "037d9fae542582ce92c5aa8b7033212be88239da",
        "colab": {
          "base_uri": "https://localhost:8080/"
        },
        "id": "w-dxRmJcjY5S",
        "outputId": "63562496-2aa0-4789-ab5c-4157cdb24e2b",
        "cell_id": "00010-b156b07e-3348-4243-9c82-403c5390e8b6",
        "deepnote_to_be_reexecuted": false,
        "source_hash": "13725c26",
        "execution_start": 1653484657268,
        "execution_millis": 282,
        "deepnote_cell_type": "code",
        "deepnote_cell_height": 283
      },
      "source": [
        "print(\"Summary..\")\n",
        "#exploring the unique values of each attribute\n",
        "print(\"Number of transactions: \", retail_uk['InvoiceNo'].nunique())\n",
        "print(\"Number of products bought: \",retail_uk['StockCode'].nunique())\n",
        "print(\"Number of customers:\", retail_uk['CustomerID'].nunique() )\n",
        "print(\"Percentage of customers NA: \", round(retail_uk['CustomerID'].isnull().sum() * 100 / len(retail_df),2),\"%\" )"
      ],
      "outputs": [
        {
          "output_type": "stream",
          "name": "stdout",
          "text": [
            "Summary..\n",
            "Number of transactions:  8789\n",
            "Number of products bought:  3294\n",
            "Number of customers: 2864\n",
            "Percentage of customers NA:  0.0 %\n"
          ]
        }
      ],
      "execution_count": 25
    },
    {
      "cell_type": "markdown",
      "source": [
        "# RFM Analysis"
      ],
      "metadata": {
        "_uuid": "cbaccf99777325fb28ee98c749fea76c4b5693b6",
        "id": "JTLvx1CWjY5T",
        "cell_id": "00011-5f32c685-e46d-4bbb-9697-5ed11dce1b77",
        "deepnote_cell_type": "markdown",
        "deepnote_cell_height": 82
      }
    },
    {
      "cell_type": "markdown",
      "source": [
        "**RFM** (Recency, Frequency, Monetary) analysis is a customer segmentation technique that uses past purchase behavior to divide customers into groups. \n",
        "RFM helps divide customers into various categories or clusters to identify customers who are more likely to respond to promotions and also for future personalization services.\n",
        "\n",
        "- RECENCY (R): Days since last purchase\n",
        "- FREQUENCY (F): Total number of purchases\n",
        "- MONETARY VALUE (M): Total money this customer spent.\n",
        "\n",
        "We will create those 3 customer attributes for each customer."
      ],
      "metadata": {
        "_uuid": "ec2d9fb9cd749c93e38e928a9f9a19cb5f3ea345",
        "id": "_nYdCiskjY5T",
        "cell_id": "00012-44dc0fd8-d48b-4b73-94b3-198beaea3b3f",
        "deepnote_cell_type": "markdown",
        "deepnote_cell_height": 220.734375
      }
    },
    {
      "cell_type": "markdown",
      "source": [
        "## Recency"
      ],
      "metadata": {
        "_uuid": "37025d4aa093ef0ce9fe86d68ba9655564b94656",
        "id": "xs5KrH4tjY5T",
        "cell_id": "00013-8d466545-7401-44e3-8525-cfa703db88a5",
        "deepnote_cell_type": "markdown",
        "deepnote_cell_height": 70
      }
    },
    {
      "cell_type": "markdown",
      "source": [
        "To calculate recency, we need to choose a date point from which we evaluate **how many days ago was the customer's last purchase**."
      ],
      "metadata": {
        "_uuid": "297503df5b379afba9bce04162ba9804d03ed453",
        "id": "00bY7iB-jY5T",
        "cell_id": "00014-9f0a5e0b-fb8c-498c-a83c-8d277b2504b2",
        "deepnote_cell_type": "markdown",
        "deepnote_cell_height": 74.78125
      }
    },
    {
      "cell_type": "code",
      "metadata": {
        "trusted": true,
        "_uuid": "ce44965c055012d19e134765eb3f6beeabf0ec9a",
        "colab": {
          "base_uri": "https://localhost:8080/",
          "height": 35
        },
        "id": "wsfbU61jjY5U",
        "outputId": "00fa921c-f14c-4c44-82f8-0603b9c43552",
        "cell_id": "00015-19b06a49-c053-4c6a-9652-d698b0230a2c",
        "deepnote_to_be_reexecuted": false,
        "source_hash": "26e46e13",
        "execution_start": 1653484657558,
        "execution_millis": 91,
        "deepnote_cell_type": "code",
        "deepnote_cell_height": 136.1875,
        "deepnote_output_heights": [
          21.1875
        ]
      },
      "source": [
        "#last date available in our dataset\n",
        "retail_uk['InvoiceDate'].max()"
      ],
      "outputs": [
        {
          "output_type": "execute_result",
          "data": {
            "text/plain": [
              "'9/9/2011 9:52'"
            ],
            "application/vnd.google.colaboratory.intrinsic+json": {
              "type": "string"
            }
          },
          "metadata": {},
          "execution_count": 26
        }
      ],
      "execution_count": 26
    },
    {
      "cell_type": "markdown",
      "source": [
        "The last date we have is 2011-12-09 so we will use it as reference."
      ],
      "metadata": {
        "_uuid": "1d2564a981a2b41c75bed046ef393e66001f7ae3",
        "id": "BPEWNSK1jY5U",
        "cell_id": "00016-5a191f9d-38c3-4df5-8034-25a67f6db8d0",
        "deepnote_cell_type": "markdown",
        "deepnote_cell_height": 52.390625
      }
    },
    {
      "cell_type": "code",
      "metadata": {
        "trusted": true,
        "_uuid": "0c43532a30cfa7b4271dbbe8a2a93499693c50a5",
        "colab": {
          "base_uri": "https://localhost:8080/"
        },
        "id": "oDdf1CNNjY5U",
        "outputId": "6052fd2e-991f-4dfc-bb34-8fc7bbaab675",
        "cell_id": "00017-75173d0c-3e2a-4925-97c4-0728c28160d8",
        "deepnote_to_be_reexecuted": false,
        "source_hash": "37a6055f",
        "execution_start": 1653484657644,
        "execution_millis": 78,
        "deepnote_cell_type": "code",
        "deepnote_cell_height": 130.1875
      },
      "source": [
        "now = dt.date(2011,12,9)\n",
        "print(now)"
      ],
      "outputs": [
        {
          "output_type": "stream",
          "name": "stdout",
          "text": [
            "2011-12-09\n"
          ]
        }
      ],
      "execution_count": 27
    },
    {
      "cell_type": "code",
      "metadata": {
        "trusted": true,
        "_uuid": "91bd392962c716e963097b158f88f1252866e243",
        "id": "YbCEsnsfjY5V",
        "cell_id": "00018-a40c9041-a424-43bf-bf8f-1e36b086114d",
        "deepnote_to_be_reexecuted": false,
        "source_hash": "3d11d432",
        "execution_start": 1653484657726,
        "execution_millis": 36848,
        "deepnote_cell_type": "code",
        "deepnote_cell_height": 99
      },
      "source": [
        "#create a new column called date which contains the date of invoice only\n",
        "retail_uk['date'] = pd.DatetimeIndex(retail_uk['InvoiceDate']).date"
      ],
      "outputs": [],
      "execution_count": 28
    },
    {
      "cell_type": "code",
      "metadata": {
        "trusted": true,
        "_uuid": "8b97954ec48816c88e7553f1e13ae4e06be1ce02",
        "colab": {
          "base_uri": "https://localhost:8080/",
          "height": 206
        },
        "id": "MpEAqYSqjY5V",
        "outputId": "ae89377d-242d-433c-8326-6509bba07c90",
        "cell_id": "00019-2f13d9b2-fde0-4992-a870-9e725424f8a6",
        "deepnote_to_be_reexecuted": false,
        "source_hash": "568fe9c6",
        "execution_start": 1653484694626,
        "execution_millis": 630,
        "deepnote_cell_type": "code",
        "deepnote_cell_height": 410
      },
      "source": [
        "retail_uk.head()"
      ],
      "outputs": [
        {
          "output_type": "execute_result",
          "data": {
            "text/plain": [
              "       InvoiceNo StockCode                          Description  Quantity  \\\n",
              "105335    545220     21955    DOORMAT UNION JACK GUNS AND ROSES         2   \n",
              "105336    545220     48194                       DOORMAT HEARTS         2   \n",
              "105337    545220     22556       PLASTERS IN TIN CIRCUS PARADE         12   \n",
              "105338    545220     22139     RETROSPOT TEA SET CERAMIC 11 PC          3   \n",
              "105339    545220    84029G  KNITTED UNION FLAG HOT WATER BOTTLE         4   \n",
              "\n",
              "          InvoiceDate  UnitPrice CustomerID         Country        date  \n",
              "105335  3/1/2011 8:30       7.95      14620  United Kingdom  2011-03-01  \n",
              "105336  3/1/2011 8:30       7.95      14620  United Kingdom  2011-03-01  \n",
              "105337  3/1/2011 8:30       1.65      14620  United Kingdom  2011-03-01  \n",
              "105338  3/1/2011 8:30       4.95      14620  United Kingdom  2011-03-01  \n",
              "105339  3/1/2011 8:30       3.75      14620  United Kingdom  2011-03-01  "
            ],
            "text/html": [
              "\n",
              "  <div id=\"df-4e15d6d7-55c5-4488-ad8a-c13e6b279a8d\">\n",
              "    <div class=\"colab-df-container\">\n",
              "      <div>\n",
              "<style scoped>\n",
              "    .dataframe tbody tr th:only-of-type {\n",
              "        vertical-align: middle;\n",
              "    }\n",
              "\n",
              "    .dataframe tbody tr th {\n",
              "        vertical-align: top;\n",
              "    }\n",
              "\n",
              "    .dataframe thead th {\n",
              "        text-align: right;\n",
              "    }\n",
              "</style>\n",
              "<table border=\"1\" class=\"dataframe\">\n",
              "  <thead>\n",
              "    <tr style=\"text-align: right;\">\n",
              "      <th></th>\n",
              "      <th>InvoiceNo</th>\n",
              "      <th>StockCode</th>\n",
              "      <th>Description</th>\n",
              "      <th>Quantity</th>\n",
              "      <th>InvoiceDate</th>\n",
              "      <th>UnitPrice</th>\n",
              "      <th>CustomerID</th>\n",
              "      <th>Country</th>\n",
              "      <th>date</th>\n",
              "    </tr>\n",
              "  </thead>\n",
              "  <tbody>\n",
              "    <tr>\n",
              "      <th>105335</th>\n",
              "      <td>545220</td>\n",
              "      <td>21955</td>\n",
              "      <td>DOORMAT UNION JACK GUNS AND ROSES</td>\n",
              "      <td>2</td>\n",
              "      <td>3/1/2011 8:30</td>\n",
              "      <td>7.95</td>\n",
              "      <td>14620</td>\n",
              "      <td>United Kingdom</td>\n",
              "      <td>2011-03-01</td>\n",
              "    </tr>\n",
              "    <tr>\n",
              "      <th>105336</th>\n",
              "      <td>545220</td>\n",
              "      <td>48194</td>\n",
              "      <td>DOORMAT HEARTS</td>\n",
              "      <td>2</td>\n",
              "      <td>3/1/2011 8:30</td>\n",
              "      <td>7.95</td>\n",
              "      <td>14620</td>\n",
              "      <td>United Kingdom</td>\n",
              "      <td>2011-03-01</td>\n",
              "    </tr>\n",
              "    <tr>\n",
              "      <th>105337</th>\n",
              "      <td>545220</td>\n",
              "      <td>22556</td>\n",
              "      <td>PLASTERS IN TIN CIRCUS PARADE</td>\n",
              "      <td>12</td>\n",
              "      <td>3/1/2011 8:30</td>\n",
              "      <td>1.65</td>\n",
              "      <td>14620</td>\n",
              "      <td>United Kingdom</td>\n",
              "      <td>2011-03-01</td>\n",
              "    </tr>\n",
              "    <tr>\n",
              "      <th>105338</th>\n",
              "      <td>545220</td>\n",
              "      <td>22139</td>\n",
              "      <td>RETROSPOT TEA SET CERAMIC 11 PC</td>\n",
              "      <td>3</td>\n",
              "      <td>3/1/2011 8:30</td>\n",
              "      <td>4.95</td>\n",
              "      <td>14620</td>\n",
              "      <td>United Kingdom</td>\n",
              "      <td>2011-03-01</td>\n",
              "    </tr>\n",
              "    <tr>\n",
              "      <th>105339</th>\n",
              "      <td>545220</td>\n",
              "      <td>84029G</td>\n",
              "      <td>KNITTED UNION FLAG HOT WATER BOTTLE</td>\n",
              "      <td>4</td>\n",
              "      <td>3/1/2011 8:30</td>\n",
              "      <td>3.75</td>\n",
              "      <td>14620</td>\n",
              "      <td>United Kingdom</td>\n",
              "      <td>2011-03-01</td>\n",
              "    </tr>\n",
              "  </tbody>\n",
              "</table>\n",
              "</div>\n",
              "      <button class=\"colab-df-convert\" onclick=\"convertToInteractive('df-4e15d6d7-55c5-4488-ad8a-c13e6b279a8d')\"\n",
              "              title=\"Convert this dataframe to an interactive table.\"\n",
              "              style=\"display:none;\">\n",
              "        \n",
              "  <svg xmlns=\"http://www.w3.org/2000/svg\" height=\"24px\"viewBox=\"0 0 24 24\"\n",
              "       width=\"24px\">\n",
              "    <path d=\"M0 0h24v24H0V0z\" fill=\"none\"/>\n",
              "    <path d=\"M18.56 5.44l.94 2.06.94-2.06 2.06-.94-2.06-.94-.94-2.06-.94 2.06-2.06.94zm-11 1L8.5 8.5l.94-2.06 2.06-.94-2.06-.94L8.5 2.5l-.94 2.06-2.06.94zm10 10l.94 2.06.94-2.06 2.06-.94-2.06-.94-.94-2.06-.94 2.06-2.06.94z\"/><path d=\"M17.41 7.96l-1.37-1.37c-.4-.4-.92-.59-1.43-.59-.52 0-1.04.2-1.43.59L10.3 9.45l-7.72 7.72c-.78.78-.78 2.05 0 2.83L4 21.41c.39.39.9.59 1.41.59.51 0 1.02-.2 1.41-.59l7.78-7.78 2.81-2.81c.8-.78.8-2.07 0-2.86zM5.41 20L4 18.59l7.72-7.72 1.47 1.35L5.41 20z\"/>\n",
              "  </svg>\n",
              "      </button>\n",
              "      \n",
              "  <style>\n",
              "    .colab-df-container {\n",
              "      display:flex;\n",
              "      flex-wrap:wrap;\n",
              "      gap: 12px;\n",
              "    }\n",
              "\n",
              "    .colab-df-convert {\n",
              "      background-color: #E8F0FE;\n",
              "      border: none;\n",
              "      border-radius: 50%;\n",
              "      cursor: pointer;\n",
              "      display: none;\n",
              "      fill: #1967D2;\n",
              "      height: 32px;\n",
              "      padding: 0 0 0 0;\n",
              "      width: 32px;\n",
              "    }\n",
              "\n",
              "    .colab-df-convert:hover {\n",
              "      background-color: #E2EBFA;\n",
              "      box-shadow: 0px 1px 2px rgba(60, 64, 67, 0.3), 0px 1px 3px 1px rgba(60, 64, 67, 0.15);\n",
              "      fill: #174EA6;\n",
              "    }\n",
              "\n",
              "    [theme=dark] .colab-df-convert {\n",
              "      background-color: #3B4455;\n",
              "      fill: #D2E3FC;\n",
              "    }\n",
              "\n",
              "    [theme=dark] .colab-df-convert:hover {\n",
              "      background-color: #434B5C;\n",
              "      box-shadow: 0px 1px 3px 1px rgba(0, 0, 0, 0.15);\n",
              "      filter: drop-shadow(0px 1px 2px rgba(0, 0, 0, 0.3));\n",
              "      fill: #FFFFFF;\n",
              "    }\n",
              "  </style>\n",
              "\n",
              "      <script>\n",
              "        const buttonEl =\n",
              "          document.querySelector('#df-4e15d6d7-55c5-4488-ad8a-c13e6b279a8d button.colab-df-convert');\n",
              "        buttonEl.style.display =\n",
              "          google.colab.kernel.accessAllowed ? 'block' : 'none';\n",
              "\n",
              "        async function convertToInteractive(key) {\n",
              "          const element = document.querySelector('#df-4e15d6d7-55c5-4488-ad8a-c13e6b279a8d');\n",
              "          const dataTable =\n",
              "            await google.colab.kernel.invokeFunction('convertToInteractive',\n",
              "                                                     [key], {});\n",
              "          if (!dataTable) return;\n",
              "\n",
              "          const docLinkHtml = 'Like what you see? Visit the ' +\n",
              "            '<a target=\"_blank\" href=https://colab.research.google.com/notebooks/data_table.ipynb>data table notebook</a>'\n",
              "            + ' to learn more about interactive tables.';\n",
              "          element.innerHTML = '';\n",
              "          dataTable['output_type'] = 'display_data';\n",
              "          await google.colab.output.renderOutput(dataTable, element);\n",
              "          const docLink = document.createElement('div');\n",
              "          docLink.innerHTML = docLinkHtml;\n",
              "          element.appendChild(docLink);\n",
              "        }\n",
              "      </script>\n",
              "    </div>\n",
              "  </div>\n",
              "  "
            ]
          },
          "metadata": {},
          "execution_count": 29
        }
      ],
      "execution_count": 29
    },
    {
      "cell_type": "code",
      "metadata": {
        "trusted": true,
        "_uuid": "f46c2dafc60fc8fae6ef5771e926bf1ab9c80544",
        "colab": {
          "base_uri": "https://localhost:8080/",
          "height": 206
        },
        "id": "UQZnECyrjY5V",
        "outputId": "861579ee-8bac-4479-a265-d27ec14ac245",
        "cell_id": "00020-6aca8187-7f01-4fbb-a1f9-99eb374a7781",
        "deepnote_to_be_reexecuted": false,
        "source_hash": "f232cebc",
        "execution_start": 1653484694694,
        "execution_millis": 721,
        "deepnote_cell_type": "code",
        "deepnote_cell_height": 449
      },
      "source": [
        "#group by customers and check last date of purshace\n",
        "recency_df = retail_uk.groupby(by='CustomerID', as_index=False)['date'].max()\n",
        "recency_df.columns = ['CustomerID','LastPurshaceDate']\n",
        "recency_df.head()"
      ],
      "outputs": [
        {
          "output_type": "execute_result",
          "data": {
            "text/plain": [
              "  CustomerID LastPurshaceDate\n",
              "0      12747       2011-08-22\n",
              "1      12748       2011-09-30\n",
              "2      12749       2011-08-01\n",
              "3      12820       2011-09-26\n",
              "4      12821       2011-05-09"
            ],
            "text/html": [
              "\n",
              "  <div id=\"df-e6c37cc2-3f59-4cd3-aed2-673102f8333e\">\n",
              "    <div class=\"colab-df-container\">\n",
              "      <div>\n",
              "<style scoped>\n",
              "    .dataframe tbody tr th:only-of-type {\n",
              "        vertical-align: middle;\n",
              "    }\n",
              "\n",
              "    .dataframe tbody tr th {\n",
              "        vertical-align: top;\n",
              "    }\n",
              "\n",
              "    .dataframe thead th {\n",
              "        text-align: right;\n",
              "    }\n",
              "</style>\n",
              "<table border=\"1\" class=\"dataframe\">\n",
              "  <thead>\n",
              "    <tr style=\"text-align: right;\">\n",
              "      <th></th>\n",
              "      <th>CustomerID</th>\n",
              "      <th>LastPurshaceDate</th>\n",
              "    </tr>\n",
              "  </thead>\n",
              "  <tbody>\n",
              "    <tr>\n",
              "      <th>0</th>\n",
              "      <td>12747</td>\n",
              "      <td>2011-08-22</td>\n",
              "    </tr>\n",
              "    <tr>\n",
              "      <th>1</th>\n",
              "      <td>12748</td>\n",
              "      <td>2011-09-30</td>\n",
              "    </tr>\n",
              "    <tr>\n",
              "      <th>2</th>\n",
              "      <td>12749</td>\n",
              "      <td>2011-08-01</td>\n",
              "    </tr>\n",
              "    <tr>\n",
              "      <th>3</th>\n",
              "      <td>12820</td>\n",
              "      <td>2011-09-26</td>\n",
              "    </tr>\n",
              "    <tr>\n",
              "      <th>4</th>\n",
              "      <td>12821</td>\n",
              "      <td>2011-05-09</td>\n",
              "    </tr>\n",
              "  </tbody>\n",
              "</table>\n",
              "</div>\n",
              "      <button class=\"colab-df-convert\" onclick=\"convertToInteractive('df-e6c37cc2-3f59-4cd3-aed2-673102f8333e')\"\n",
              "              title=\"Convert this dataframe to an interactive table.\"\n",
              "              style=\"display:none;\">\n",
              "        \n",
              "  <svg xmlns=\"http://www.w3.org/2000/svg\" height=\"24px\"viewBox=\"0 0 24 24\"\n",
              "       width=\"24px\">\n",
              "    <path d=\"M0 0h24v24H0V0z\" fill=\"none\"/>\n",
              "    <path d=\"M18.56 5.44l.94 2.06.94-2.06 2.06-.94-2.06-.94-.94-2.06-.94 2.06-2.06.94zm-11 1L8.5 8.5l.94-2.06 2.06-.94-2.06-.94L8.5 2.5l-.94 2.06-2.06.94zm10 10l.94 2.06.94-2.06 2.06-.94-2.06-.94-.94-2.06-.94 2.06-2.06.94z\"/><path d=\"M17.41 7.96l-1.37-1.37c-.4-.4-.92-.59-1.43-.59-.52 0-1.04.2-1.43.59L10.3 9.45l-7.72 7.72c-.78.78-.78 2.05 0 2.83L4 21.41c.39.39.9.59 1.41.59.51 0 1.02-.2 1.41-.59l7.78-7.78 2.81-2.81c.8-.78.8-2.07 0-2.86zM5.41 20L4 18.59l7.72-7.72 1.47 1.35L5.41 20z\"/>\n",
              "  </svg>\n",
              "      </button>\n",
              "      \n",
              "  <style>\n",
              "    .colab-df-container {\n",
              "      display:flex;\n",
              "      flex-wrap:wrap;\n",
              "      gap: 12px;\n",
              "    }\n",
              "\n",
              "    .colab-df-convert {\n",
              "      background-color: #E8F0FE;\n",
              "      border: none;\n",
              "      border-radius: 50%;\n",
              "      cursor: pointer;\n",
              "      display: none;\n",
              "      fill: #1967D2;\n",
              "      height: 32px;\n",
              "      padding: 0 0 0 0;\n",
              "      width: 32px;\n",
              "    }\n",
              "\n",
              "    .colab-df-convert:hover {\n",
              "      background-color: #E2EBFA;\n",
              "      box-shadow: 0px 1px 2px rgba(60, 64, 67, 0.3), 0px 1px 3px 1px rgba(60, 64, 67, 0.15);\n",
              "      fill: #174EA6;\n",
              "    }\n",
              "\n",
              "    [theme=dark] .colab-df-convert {\n",
              "      background-color: #3B4455;\n",
              "      fill: #D2E3FC;\n",
              "    }\n",
              "\n",
              "    [theme=dark] .colab-df-convert:hover {\n",
              "      background-color: #434B5C;\n",
              "      box-shadow: 0px 1px 3px 1px rgba(0, 0, 0, 0.15);\n",
              "      filter: drop-shadow(0px 1px 2px rgba(0, 0, 0, 0.3));\n",
              "      fill: #FFFFFF;\n",
              "    }\n",
              "  </style>\n",
              "\n",
              "      <script>\n",
              "        const buttonEl =\n",
              "          document.querySelector('#df-e6c37cc2-3f59-4cd3-aed2-673102f8333e button.colab-df-convert');\n",
              "        buttonEl.style.display =\n",
              "          google.colab.kernel.accessAllowed ? 'block' : 'none';\n",
              "\n",
              "        async function convertToInteractive(key) {\n",
              "          const element = document.querySelector('#df-e6c37cc2-3f59-4cd3-aed2-673102f8333e');\n",
              "          const dataTable =\n",
              "            await google.colab.kernel.invokeFunction('convertToInteractive',\n",
              "                                                     [key], {});\n",
              "          if (!dataTable) return;\n",
              "\n",
              "          const docLinkHtml = 'Like what you see? Visit the ' +\n",
              "            '<a target=\"_blank\" href=https://colab.research.google.com/notebooks/data_table.ipynb>data table notebook</a>'\n",
              "            + ' to learn more about interactive tables.';\n",
              "          element.innerHTML = '';\n",
              "          dataTable['output_type'] = 'display_data';\n",
              "          await google.colab.output.renderOutput(dataTable, element);\n",
              "          const docLink = document.createElement('div');\n",
              "          docLink.innerHTML = docLinkHtml;\n",
              "          element.appendChild(docLink);\n",
              "        }\n",
              "      </script>\n",
              "    </div>\n",
              "  </div>\n",
              "  "
            ]
          },
          "metadata": {},
          "execution_count": 30
        }
      ],
      "execution_count": 30
    },
    {
      "cell_type": "code",
      "metadata": {
        "trusted": true,
        "collapsed": true,
        "_uuid": "0f9cc1426b3f070520c2a7009c4248978810e75d",
        "id": "SOAs18cdjY5V",
        "cell_id": "00021-67dd3386-c48a-423a-827b-8513afc56947",
        "deepnote_to_be_reexecuted": false,
        "source_hash": "a2b36cc8",
        "execution_start": 1653484695438,
        "execution_millis": 11,
        "deepnote_cell_type": "code",
        "deepnote_cell_height": 117
      },
      "source": [
        "\n",
        "#calculate recency\n",
        "recency_df['Recency'] = recency_df['LastPurshaceDate'].apply(lambda x: (now - x).days)"
      ],
      "outputs": [],
      "execution_count": 31
    },
    {
      "cell_type": "code",
      "metadata": {
        "trusted": true,
        "_uuid": "c16b48098b91e515574c17d163e632567499e564",
        "colab": {
          "base_uri": "https://localhost:8080/",
          "height": 206
        },
        "id": "Zg36aePNjY5V",
        "outputId": "a8c1e3fd-d9c9-4467-969f-e568a8828aa2",
        "cell_id": "00022-1fd3da91-ae9b-477e-8ac9-d7679ee7d900",
        "deepnote_to_be_reexecuted": false,
        "source_hash": "30c0e5e2",
        "execution_start": 1653484695494,
        "execution_millis": 40,
        "deepnote_cell_type": "code",
        "deepnote_cell_height": 395
      },
      "source": [
        "recency_df.head()"
      ],
      "outputs": [
        {
          "output_type": "execute_result",
          "data": {
            "text/plain": [
              "  CustomerID LastPurshaceDate  Recency\n",
              "0      12747       2011-08-22      109\n",
              "1      12748       2011-09-30       70\n",
              "2      12749       2011-08-01      130\n",
              "3      12820       2011-09-26       74\n",
              "4      12821       2011-05-09      214"
            ],
            "text/html": [
              "\n",
              "  <div id=\"df-420c247c-d94f-4877-a10c-281d4e2fb5e7\">\n",
              "    <div class=\"colab-df-container\">\n",
              "      <div>\n",
              "<style scoped>\n",
              "    .dataframe tbody tr th:only-of-type {\n",
              "        vertical-align: middle;\n",
              "    }\n",
              "\n",
              "    .dataframe tbody tr th {\n",
              "        vertical-align: top;\n",
              "    }\n",
              "\n",
              "    .dataframe thead th {\n",
              "        text-align: right;\n",
              "    }\n",
              "</style>\n",
              "<table border=\"1\" class=\"dataframe\">\n",
              "  <thead>\n",
              "    <tr style=\"text-align: right;\">\n",
              "      <th></th>\n",
              "      <th>CustomerID</th>\n",
              "      <th>LastPurshaceDate</th>\n",
              "      <th>Recency</th>\n",
              "    </tr>\n",
              "  </thead>\n",
              "  <tbody>\n",
              "    <tr>\n",
              "      <th>0</th>\n",
              "      <td>12747</td>\n",
              "      <td>2011-08-22</td>\n",
              "      <td>109</td>\n",
              "    </tr>\n",
              "    <tr>\n",
              "      <th>1</th>\n",
              "      <td>12748</td>\n",
              "      <td>2011-09-30</td>\n",
              "      <td>70</td>\n",
              "    </tr>\n",
              "    <tr>\n",
              "      <th>2</th>\n",
              "      <td>12749</td>\n",
              "      <td>2011-08-01</td>\n",
              "      <td>130</td>\n",
              "    </tr>\n",
              "    <tr>\n",
              "      <th>3</th>\n",
              "      <td>12820</td>\n",
              "      <td>2011-09-26</td>\n",
              "      <td>74</td>\n",
              "    </tr>\n",
              "    <tr>\n",
              "      <th>4</th>\n",
              "      <td>12821</td>\n",
              "      <td>2011-05-09</td>\n",
              "      <td>214</td>\n",
              "    </tr>\n",
              "  </tbody>\n",
              "</table>\n",
              "</div>\n",
              "      <button class=\"colab-df-convert\" onclick=\"convertToInteractive('df-420c247c-d94f-4877-a10c-281d4e2fb5e7')\"\n",
              "              title=\"Convert this dataframe to an interactive table.\"\n",
              "              style=\"display:none;\">\n",
              "        \n",
              "  <svg xmlns=\"http://www.w3.org/2000/svg\" height=\"24px\"viewBox=\"0 0 24 24\"\n",
              "       width=\"24px\">\n",
              "    <path d=\"M0 0h24v24H0V0z\" fill=\"none\"/>\n",
              "    <path d=\"M18.56 5.44l.94 2.06.94-2.06 2.06-.94-2.06-.94-.94-2.06-.94 2.06-2.06.94zm-11 1L8.5 8.5l.94-2.06 2.06-.94-2.06-.94L8.5 2.5l-.94 2.06-2.06.94zm10 10l.94 2.06.94-2.06 2.06-.94-2.06-.94-.94-2.06-.94 2.06-2.06.94z\"/><path d=\"M17.41 7.96l-1.37-1.37c-.4-.4-.92-.59-1.43-.59-.52 0-1.04.2-1.43.59L10.3 9.45l-7.72 7.72c-.78.78-.78 2.05 0 2.83L4 21.41c.39.39.9.59 1.41.59.51 0 1.02-.2 1.41-.59l7.78-7.78 2.81-2.81c.8-.78.8-2.07 0-2.86zM5.41 20L4 18.59l7.72-7.72 1.47 1.35L5.41 20z\"/>\n",
              "  </svg>\n",
              "      </button>\n",
              "      \n",
              "  <style>\n",
              "    .colab-df-container {\n",
              "      display:flex;\n",
              "      flex-wrap:wrap;\n",
              "      gap: 12px;\n",
              "    }\n",
              "\n",
              "    .colab-df-convert {\n",
              "      background-color: #E8F0FE;\n",
              "      border: none;\n",
              "      border-radius: 50%;\n",
              "      cursor: pointer;\n",
              "      display: none;\n",
              "      fill: #1967D2;\n",
              "      height: 32px;\n",
              "      padding: 0 0 0 0;\n",
              "      width: 32px;\n",
              "    }\n",
              "\n",
              "    .colab-df-convert:hover {\n",
              "      background-color: #E2EBFA;\n",
              "      box-shadow: 0px 1px 2px rgba(60, 64, 67, 0.3), 0px 1px 3px 1px rgba(60, 64, 67, 0.15);\n",
              "      fill: #174EA6;\n",
              "    }\n",
              "\n",
              "    [theme=dark] .colab-df-convert {\n",
              "      background-color: #3B4455;\n",
              "      fill: #D2E3FC;\n",
              "    }\n",
              "\n",
              "    [theme=dark] .colab-df-convert:hover {\n",
              "      background-color: #434B5C;\n",
              "      box-shadow: 0px 1px 3px 1px rgba(0, 0, 0, 0.15);\n",
              "      filter: drop-shadow(0px 1px 2px rgba(0, 0, 0, 0.3));\n",
              "      fill: #FFFFFF;\n",
              "    }\n",
              "  </style>\n",
              "\n",
              "      <script>\n",
              "        const buttonEl =\n",
              "          document.querySelector('#df-420c247c-d94f-4877-a10c-281d4e2fb5e7 button.colab-df-convert');\n",
              "        buttonEl.style.display =\n",
              "          google.colab.kernel.accessAllowed ? 'block' : 'none';\n",
              "\n",
              "        async function convertToInteractive(key) {\n",
              "          const element = document.querySelector('#df-420c247c-d94f-4877-a10c-281d4e2fb5e7');\n",
              "          const dataTable =\n",
              "            await google.colab.kernel.invokeFunction('convertToInteractive',\n",
              "                                                     [key], {});\n",
              "          if (!dataTable) return;\n",
              "\n",
              "          const docLinkHtml = 'Like what you see? Visit the ' +\n",
              "            '<a target=\"_blank\" href=https://colab.research.google.com/notebooks/data_table.ipynb>data table notebook</a>'\n",
              "            + ' to learn more about interactive tables.';\n",
              "          element.innerHTML = '';\n",
              "          dataTable['output_type'] = 'display_data';\n",
              "          await google.colab.output.renderOutput(dataTable, element);\n",
              "          const docLink = document.createElement('div');\n",
              "          docLink.innerHTML = docLinkHtml;\n",
              "          element.appendChild(docLink);\n",
              "        }\n",
              "      </script>\n",
              "    </div>\n",
              "  </div>\n",
              "  "
            ]
          },
          "metadata": {},
          "execution_count": 32
        }
      ],
      "execution_count": 32
    },
    {
      "cell_type": "code",
      "metadata": {
        "trusted": true,
        "collapsed": true,
        "_uuid": "9fa862b85b52d80bbf5b127234d30c67f4aa4181",
        "id": "-FPwFI9cjY5W",
        "cell_id": "00023-c167f7a9-4e23-43a4-89c8-a43557772116",
        "deepnote_to_be_reexecuted": false,
        "source_hash": "a184ee1",
        "execution_start": 1653484695528,
        "execution_millis": 0,
        "deepnote_cell_type": "code",
        "deepnote_cell_height": 99
      },
      "source": [
        "#drop LastPurchaseDate as we don't need it anymore\n",
        "recency_df.drop('LastPurshaceDate',axis=1,inplace=True)"
      ],
      "outputs": [],
      "execution_count": 33
    },
    {
      "cell_type": "markdown",
      "source": [
        "## Frequency"
      ],
      "metadata": {
        "_uuid": "64c16d4ddbd8ee8719dcddde7e3257d7f9faffb3",
        "id": "Rz40QtO1jY5W",
        "cell_id": "00024-2e315e1a-0716-4eb6-bfba-9122b12c1eb6",
        "deepnote_cell_type": "markdown",
        "deepnote_cell_height": 70
      }
    },
    {
      "cell_type": "markdown",
      "source": [
        "Frequency helps us to know how many times a customer purchased from us. To do that we need to check **how many invoices are registered by the same customer**."
      ],
      "metadata": {
        "_uuid": "41069f6b022ad8ea37d941f165fa20baa2868d04",
        "id": "YCYSKDSujY5W",
        "cell_id": "00025-5e897a64-dd20-4fd1-9ddf-d300619dbc38",
        "deepnote_cell_type": "markdown",
        "deepnote_cell_height": 74.78125
      }
    },
    {
      "cell_type": "code",
      "metadata": {
        "trusted": true,
        "_uuid": "1b682a23d7ace26d73c691ac95a975dfd6f588c5",
        "colab": {
          "base_uri": "https://localhost:8080/",
          "height": 206
        },
        "id": "1PMue0enjY5W",
        "outputId": "33d94c01-a358-4f1d-fd87-e9a06041b136",
        "cell_id": "00026-a09c54e5-f31c-441e-807f-67461706b99b",
        "deepnote_to_be_reexecuted": false,
        "source_hash": "df0bd009",
        "execution_start": 1653484695528,
        "execution_millis": 87,
        "deepnote_cell_type": "code",
        "deepnote_cell_height": 503
      },
      "source": [
        "# drop duplicates\n",
        "retail_uk_copy = retail_uk\n",
        "retail_uk_copy.drop_duplicates(subset=['InvoiceNo', 'CustomerID'], keep=\"first\", inplace=True)\n",
        "#calculate frequency of purchases\n",
        "frequency_df = retail_uk_copy.groupby(by=['CustomerID'], as_index=False)['InvoiceNo'].count()\n",
        "frequency_df.columns = ['CustomerID','Frequency']\n",
        "frequency_df.head()"
      ],
      "outputs": [
        {
          "output_type": "execute_result",
          "data": {
            "text/plain": [
              "  CustomerID  Frequency\n",
              "0      12747          5\n",
              "1      12748         96\n",
              "2      12749          3\n",
              "3      12820          1\n",
              "4      12821          1"
            ],
            "text/html": [
              "\n",
              "  <div id=\"df-390ede8c-5f48-4d6c-a632-e601878462f3\">\n",
              "    <div class=\"colab-df-container\">\n",
              "      <div>\n",
              "<style scoped>\n",
              "    .dataframe tbody tr th:only-of-type {\n",
              "        vertical-align: middle;\n",
              "    }\n",
              "\n",
              "    .dataframe tbody tr th {\n",
              "        vertical-align: top;\n",
              "    }\n",
              "\n",
              "    .dataframe thead th {\n",
              "        text-align: right;\n",
              "    }\n",
              "</style>\n",
              "<table border=\"1\" class=\"dataframe\">\n",
              "  <thead>\n",
              "    <tr style=\"text-align: right;\">\n",
              "      <th></th>\n",
              "      <th>CustomerID</th>\n",
              "      <th>Frequency</th>\n",
              "    </tr>\n",
              "  </thead>\n",
              "  <tbody>\n",
              "    <tr>\n",
              "      <th>0</th>\n",
              "      <td>12747</td>\n",
              "      <td>5</td>\n",
              "    </tr>\n",
              "    <tr>\n",
              "      <th>1</th>\n",
              "      <td>12748</td>\n",
              "      <td>96</td>\n",
              "    </tr>\n",
              "    <tr>\n",
              "      <th>2</th>\n",
              "      <td>12749</td>\n",
              "      <td>3</td>\n",
              "    </tr>\n",
              "    <tr>\n",
              "      <th>3</th>\n",
              "      <td>12820</td>\n",
              "      <td>1</td>\n",
              "    </tr>\n",
              "    <tr>\n",
              "      <th>4</th>\n",
              "      <td>12821</td>\n",
              "      <td>1</td>\n",
              "    </tr>\n",
              "  </tbody>\n",
              "</table>\n",
              "</div>\n",
              "      <button class=\"colab-df-convert\" onclick=\"convertToInteractive('df-390ede8c-5f48-4d6c-a632-e601878462f3')\"\n",
              "              title=\"Convert this dataframe to an interactive table.\"\n",
              "              style=\"display:none;\">\n",
              "        \n",
              "  <svg xmlns=\"http://www.w3.org/2000/svg\" height=\"24px\"viewBox=\"0 0 24 24\"\n",
              "       width=\"24px\">\n",
              "    <path d=\"M0 0h24v24H0V0z\" fill=\"none\"/>\n",
              "    <path d=\"M18.56 5.44l.94 2.06.94-2.06 2.06-.94-2.06-.94-.94-2.06-.94 2.06-2.06.94zm-11 1L8.5 8.5l.94-2.06 2.06-.94-2.06-.94L8.5 2.5l-.94 2.06-2.06.94zm10 10l.94 2.06.94-2.06 2.06-.94-2.06-.94-.94-2.06-.94 2.06-2.06.94z\"/><path d=\"M17.41 7.96l-1.37-1.37c-.4-.4-.92-.59-1.43-.59-.52 0-1.04.2-1.43.59L10.3 9.45l-7.72 7.72c-.78.78-.78 2.05 0 2.83L4 21.41c.39.39.9.59 1.41.59.51 0 1.02-.2 1.41-.59l7.78-7.78 2.81-2.81c.8-.78.8-2.07 0-2.86zM5.41 20L4 18.59l7.72-7.72 1.47 1.35L5.41 20z\"/>\n",
              "  </svg>\n",
              "      </button>\n",
              "      \n",
              "  <style>\n",
              "    .colab-df-container {\n",
              "      display:flex;\n",
              "      flex-wrap:wrap;\n",
              "      gap: 12px;\n",
              "    }\n",
              "\n",
              "    .colab-df-convert {\n",
              "      background-color: #E8F0FE;\n",
              "      border: none;\n",
              "      border-radius: 50%;\n",
              "      cursor: pointer;\n",
              "      display: none;\n",
              "      fill: #1967D2;\n",
              "      height: 32px;\n",
              "      padding: 0 0 0 0;\n",
              "      width: 32px;\n",
              "    }\n",
              "\n",
              "    .colab-df-convert:hover {\n",
              "      background-color: #E2EBFA;\n",
              "      box-shadow: 0px 1px 2px rgba(60, 64, 67, 0.3), 0px 1px 3px 1px rgba(60, 64, 67, 0.15);\n",
              "      fill: #174EA6;\n",
              "    }\n",
              "\n",
              "    [theme=dark] .colab-df-convert {\n",
              "      background-color: #3B4455;\n",
              "      fill: #D2E3FC;\n",
              "    }\n",
              "\n",
              "    [theme=dark] .colab-df-convert:hover {\n",
              "      background-color: #434B5C;\n",
              "      box-shadow: 0px 1px 3px 1px rgba(0, 0, 0, 0.15);\n",
              "      filter: drop-shadow(0px 1px 2px rgba(0, 0, 0, 0.3));\n",
              "      fill: #FFFFFF;\n",
              "    }\n",
              "  </style>\n",
              "\n",
              "      <script>\n",
              "        const buttonEl =\n",
              "          document.querySelector('#df-390ede8c-5f48-4d6c-a632-e601878462f3 button.colab-df-convert');\n",
              "        buttonEl.style.display =\n",
              "          google.colab.kernel.accessAllowed ? 'block' : 'none';\n",
              "\n",
              "        async function convertToInteractive(key) {\n",
              "          const element = document.querySelector('#df-390ede8c-5f48-4d6c-a632-e601878462f3');\n",
              "          const dataTable =\n",
              "            await google.colab.kernel.invokeFunction('convertToInteractive',\n",
              "                                                     [key], {});\n",
              "          if (!dataTable) return;\n",
              "\n",
              "          const docLinkHtml = 'Like what you see? Visit the ' +\n",
              "            '<a target=\"_blank\" href=https://colab.research.google.com/notebooks/data_table.ipynb>data table notebook</a>'\n",
              "            + ' to learn more about interactive tables.';\n",
              "          element.innerHTML = '';\n",
              "          dataTable['output_type'] = 'display_data';\n",
              "          await google.colab.output.renderOutput(dataTable, element);\n",
              "          const docLink = document.createElement('div');\n",
              "          docLink.innerHTML = docLinkHtml;\n",
              "          element.appendChild(docLink);\n",
              "        }\n",
              "      </script>\n",
              "    </div>\n",
              "  </div>\n",
              "  "
            ]
          },
          "metadata": {},
          "execution_count": 34
        }
      ],
      "execution_count": 34
    },
    {
      "cell_type": "markdown",
      "source": [
        "## Monetary"
      ],
      "metadata": {
        "_uuid": "f676ce29bcbe49aeb73de6706ab1e7eb954172ff",
        "id": "EZcpOSIBjY5W",
        "cell_id": "00027-bc26f1c6-7789-4381-ae65-08b8d7b655e0",
        "deepnote_cell_type": "markdown",
        "deepnote_cell_height": 70
      }
    },
    {
      "cell_type": "markdown",
      "source": [
        "Monetary attribute answers the question: **How much money did the customer spent over time?**\n",
        "\n",
        "To do that, first, we will create a new column total cost to have the total price per invoice."
      ],
      "metadata": {
        "_uuid": "9c0b5a6c58b1ab515d3ac34738733d5e2a1729af",
        "id": "3S6js70EjY5W",
        "cell_id": "00028-c286a69b-1573-476a-9b97-797591961c02",
        "deepnote_cell_type": "markdown",
        "deepnote_cell_height": 88.78125
      }
    },
    {
      "cell_type": "code",
      "metadata": {
        "trusted": true,
        "collapsed": true,
        "_uuid": "f0ba92add4b2789dfaa6b275daf9c83bd85a0036",
        "id": "hrqqyaR0jY5X",
        "cell_id": "00029-b4496327-7530-4f46-a9c9-79ca2b94a57b",
        "deepnote_to_be_reexecuted": false,
        "source_hash": "7fb8867d",
        "execution_start": 1653484695622,
        "execution_millis": 12,
        "deepnote_cell_type": "code",
        "deepnote_cell_height": 99
      },
      "source": [
        "#create column total cost\n",
        "retail_uk['TotalCost'] = retail_uk['Quantity'] * retail_uk['UnitPrice']"
      ],
      "outputs": [],
      "execution_count": 35
    },
    {
      "cell_type": "code",
      "metadata": {
        "trusted": true,
        "_uuid": "b95ce8a5cdbb3e5a4c199c8f338cfbce19ed8266",
        "colab": {
          "base_uri": "https://localhost:8080/",
          "height": 206
        },
        "id": "vFPax-ZZjY5X",
        "outputId": "5cf436fa-9170-42b4-fa82-b0a20ea9859b",
        "cell_id": "00030-87f23b6c-51ed-4414-b509-989462b336a0",
        "deepnote_to_be_reexecuted": false,
        "source_hash": "e2f77983",
        "execution_start": 1653484695644,
        "execution_millis": 68,
        "deepnote_cell_type": "code",
        "deepnote_cell_height": 431
      },
      "source": [
        "monetary_df = retail_uk.groupby(by='CustomerID',as_index=False).agg({'TotalCost': 'sum'})\n",
        "monetary_df.columns = ['CustomerID','Monetary']\n",
        "monetary_df.head()"
      ],
      "outputs": [
        {
          "output_type": "execute_result",
          "data": {
            "text/plain": [
              "  CustomerID  Monetary\n",
              "0      12747    191.85\n",
              "1      12748   1054.43\n",
              "2      12749     67.00\n",
              "3      12820     15.00\n",
              "4      12821     19.92"
            ],
            "text/html": [
              "\n",
              "  <div id=\"df-d9686616-efb4-4d53-a43b-78334005bae6\">\n",
              "    <div class=\"colab-df-container\">\n",
              "      <div>\n",
              "<style scoped>\n",
              "    .dataframe tbody tr th:only-of-type {\n",
              "        vertical-align: middle;\n",
              "    }\n",
              "\n",
              "    .dataframe tbody tr th {\n",
              "        vertical-align: top;\n",
              "    }\n",
              "\n",
              "    .dataframe thead th {\n",
              "        text-align: right;\n",
              "    }\n",
              "</style>\n",
              "<table border=\"1\" class=\"dataframe\">\n",
              "  <thead>\n",
              "    <tr style=\"text-align: right;\">\n",
              "      <th></th>\n",
              "      <th>CustomerID</th>\n",
              "      <th>Monetary</th>\n",
              "    </tr>\n",
              "  </thead>\n",
              "  <tbody>\n",
              "    <tr>\n",
              "      <th>0</th>\n",
              "      <td>12747</td>\n",
              "      <td>191.85</td>\n",
              "    </tr>\n",
              "    <tr>\n",
              "      <th>1</th>\n",
              "      <td>12748</td>\n",
              "      <td>1054.43</td>\n",
              "    </tr>\n",
              "    <tr>\n",
              "      <th>2</th>\n",
              "      <td>12749</td>\n",
              "      <td>67.00</td>\n",
              "    </tr>\n",
              "    <tr>\n",
              "      <th>3</th>\n",
              "      <td>12820</td>\n",
              "      <td>15.00</td>\n",
              "    </tr>\n",
              "    <tr>\n",
              "      <th>4</th>\n",
              "      <td>12821</td>\n",
              "      <td>19.92</td>\n",
              "    </tr>\n",
              "  </tbody>\n",
              "</table>\n",
              "</div>\n",
              "      <button class=\"colab-df-convert\" onclick=\"convertToInteractive('df-d9686616-efb4-4d53-a43b-78334005bae6')\"\n",
              "              title=\"Convert this dataframe to an interactive table.\"\n",
              "              style=\"display:none;\">\n",
              "        \n",
              "  <svg xmlns=\"http://www.w3.org/2000/svg\" height=\"24px\"viewBox=\"0 0 24 24\"\n",
              "       width=\"24px\">\n",
              "    <path d=\"M0 0h24v24H0V0z\" fill=\"none\"/>\n",
              "    <path d=\"M18.56 5.44l.94 2.06.94-2.06 2.06-.94-2.06-.94-.94-2.06-.94 2.06-2.06.94zm-11 1L8.5 8.5l.94-2.06 2.06-.94-2.06-.94L8.5 2.5l-.94 2.06-2.06.94zm10 10l.94 2.06.94-2.06 2.06-.94-2.06-.94-.94-2.06-.94 2.06-2.06.94z\"/><path d=\"M17.41 7.96l-1.37-1.37c-.4-.4-.92-.59-1.43-.59-.52 0-1.04.2-1.43.59L10.3 9.45l-7.72 7.72c-.78.78-.78 2.05 0 2.83L4 21.41c.39.39.9.59 1.41.59.51 0 1.02-.2 1.41-.59l7.78-7.78 2.81-2.81c.8-.78.8-2.07 0-2.86zM5.41 20L4 18.59l7.72-7.72 1.47 1.35L5.41 20z\"/>\n",
              "  </svg>\n",
              "      </button>\n",
              "      \n",
              "  <style>\n",
              "    .colab-df-container {\n",
              "      display:flex;\n",
              "      flex-wrap:wrap;\n",
              "      gap: 12px;\n",
              "    }\n",
              "\n",
              "    .colab-df-convert {\n",
              "      background-color: #E8F0FE;\n",
              "      border: none;\n",
              "      border-radius: 50%;\n",
              "      cursor: pointer;\n",
              "      display: none;\n",
              "      fill: #1967D2;\n",
              "      height: 32px;\n",
              "      padding: 0 0 0 0;\n",
              "      width: 32px;\n",
              "    }\n",
              "\n",
              "    .colab-df-convert:hover {\n",
              "      background-color: #E2EBFA;\n",
              "      box-shadow: 0px 1px 2px rgba(60, 64, 67, 0.3), 0px 1px 3px 1px rgba(60, 64, 67, 0.15);\n",
              "      fill: #174EA6;\n",
              "    }\n",
              "\n",
              "    [theme=dark] .colab-df-convert {\n",
              "      background-color: #3B4455;\n",
              "      fill: #D2E3FC;\n",
              "    }\n",
              "\n",
              "    [theme=dark] .colab-df-convert:hover {\n",
              "      background-color: #434B5C;\n",
              "      box-shadow: 0px 1px 3px 1px rgba(0, 0, 0, 0.15);\n",
              "      filter: drop-shadow(0px 1px 2px rgba(0, 0, 0, 0.3));\n",
              "      fill: #FFFFFF;\n",
              "    }\n",
              "  </style>\n",
              "\n",
              "      <script>\n",
              "        const buttonEl =\n",
              "          document.querySelector('#df-d9686616-efb4-4d53-a43b-78334005bae6 button.colab-df-convert');\n",
              "        buttonEl.style.display =\n",
              "          google.colab.kernel.accessAllowed ? 'block' : 'none';\n",
              "\n",
              "        async function convertToInteractive(key) {\n",
              "          const element = document.querySelector('#df-d9686616-efb4-4d53-a43b-78334005bae6');\n",
              "          const dataTable =\n",
              "            await google.colab.kernel.invokeFunction('convertToInteractive',\n",
              "                                                     [key], {});\n",
              "          if (!dataTable) return;\n",
              "\n",
              "          const docLinkHtml = 'Like what you see? Visit the ' +\n",
              "            '<a target=\"_blank\" href=https://colab.research.google.com/notebooks/data_table.ipynb>data table notebook</a>'\n",
              "            + ' to learn more about interactive tables.';\n",
              "          element.innerHTML = '';\n",
              "          dataTable['output_type'] = 'display_data';\n",
              "          await google.colab.output.renderOutput(dataTable, element);\n",
              "          const docLink = document.createElement('div');\n",
              "          docLink.innerHTML = docLinkHtml;\n",
              "          element.appendChild(docLink);\n",
              "        }\n",
              "      </script>\n",
              "    </div>\n",
              "  </div>\n",
              "  "
            ]
          },
          "metadata": {},
          "execution_count": 36
        }
      ],
      "execution_count": 36
    },
    {
      "cell_type": "markdown",
      "source": [
        "## Create RFM Table"
      ],
      "metadata": {
        "_uuid": "55ffbc87d562083d6c8ed174bfa751b1a84119b9",
        "id": "6A0sWj4LjY5X",
        "cell_id": "00031-28d76871-96d8-46eb-a6e2-bb4e332b28df",
        "deepnote_cell_type": "markdown",
        "deepnote_cell_height": 70
      }
    },
    {
      "cell_type": "code",
      "metadata": {
        "trusted": true,
        "_uuid": "3a690db35fe721345dfd4dd625cdfaa9fffe96ee",
        "colab": {
          "base_uri": "https://localhost:8080/",
          "height": 206
        },
        "id": "xzsNK2RcjY5X",
        "outputId": "8ec2814b-b806-48e4-e899-25bfd795eab2",
        "cell_id": "00032-2170e1dd-79ae-43e9-8c34-5a67119d9d34",
        "deepnote_to_be_reexecuted": false,
        "source_hash": "3d1f0aa8",
        "execution_start": 1653484695704,
        "execution_millis": 62,
        "deepnote_cell_type": "code",
        "deepnote_cell_height": 431
      },
      "source": [
        "#merge recency dataframe with frequency dataframe\n",
        "temp_df = recency_df.merge(frequency_df,on='CustomerID')\n",
        "temp_df.head()"
      ],
      "outputs": [
        {
          "output_type": "execute_result",
          "data": {
            "text/plain": [
              "  CustomerID  Recency  Frequency\n",
              "0      12747      109          5\n",
              "1      12748       70         96\n",
              "2      12749      130          3\n",
              "3      12820       74          1\n",
              "4      12821      214          1"
            ],
            "text/html": [
              "\n",
              "  <div id=\"df-33ca239f-7840-4f67-a5c8-eca9289456a7\">\n",
              "    <div class=\"colab-df-container\">\n",
              "      <div>\n",
              "<style scoped>\n",
              "    .dataframe tbody tr th:only-of-type {\n",
              "        vertical-align: middle;\n",
              "    }\n",
              "\n",
              "    .dataframe tbody tr th {\n",
              "        vertical-align: top;\n",
              "    }\n",
              "\n",
              "    .dataframe thead th {\n",
              "        text-align: right;\n",
              "    }\n",
              "</style>\n",
              "<table border=\"1\" class=\"dataframe\">\n",
              "  <thead>\n",
              "    <tr style=\"text-align: right;\">\n",
              "      <th></th>\n",
              "      <th>CustomerID</th>\n",
              "      <th>Recency</th>\n",
              "      <th>Frequency</th>\n",
              "    </tr>\n",
              "  </thead>\n",
              "  <tbody>\n",
              "    <tr>\n",
              "      <th>0</th>\n",
              "      <td>12747</td>\n",
              "      <td>109</td>\n",
              "      <td>5</td>\n",
              "    </tr>\n",
              "    <tr>\n",
              "      <th>1</th>\n",
              "      <td>12748</td>\n",
              "      <td>70</td>\n",
              "      <td>96</td>\n",
              "    </tr>\n",
              "    <tr>\n",
              "      <th>2</th>\n",
              "      <td>12749</td>\n",
              "      <td>130</td>\n",
              "      <td>3</td>\n",
              "    </tr>\n",
              "    <tr>\n",
              "      <th>3</th>\n",
              "      <td>12820</td>\n",
              "      <td>74</td>\n",
              "      <td>1</td>\n",
              "    </tr>\n",
              "    <tr>\n",
              "      <th>4</th>\n",
              "      <td>12821</td>\n",
              "      <td>214</td>\n",
              "      <td>1</td>\n",
              "    </tr>\n",
              "  </tbody>\n",
              "</table>\n",
              "</div>\n",
              "      <button class=\"colab-df-convert\" onclick=\"convertToInteractive('df-33ca239f-7840-4f67-a5c8-eca9289456a7')\"\n",
              "              title=\"Convert this dataframe to an interactive table.\"\n",
              "              style=\"display:none;\">\n",
              "        \n",
              "  <svg xmlns=\"http://www.w3.org/2000/svg\" height=\"24px\"viewBox=\"0 0 24 24\"\n",
              "       width=\"24px\">\n",
              "    <path d=\"M0 0h24v24H0V0z\" fill=\"none\"/>\n",
              "    <path d=\"M18.56 5.44l.94 2.06.94-2.06 2.06-.94-2.06-.94-.94-2.06-.94 2.06-2.06.94zm-11 1L8.5 8.5l.94-2.06 2.06-.94-2.06-.94L8.5 2.5l-.94 2.06-2.06.94zm10 10l.94 2.06.94-2.06 2.06-.94-2.06-.94-.94-2.06-.94 2.06-2.06.94z\"/><path d=\"M17.41 7.96l-1.37-1.37c-.4-.4-.92-.59-1.43-.59-.52 0-1.04.2-1.43.59L10.3 9.45l-7.72 7.72c-.78.78-.78 2.05 0 2.83L4 21.41c.39.39.9.59 1.41.59.51 0 1.02-.2 1.41-.59l7.78-7.78 2.81-2.81c.8-.78.8-2.07 0-2.86zM5.41 20L4 18.59l7.72-7.72 1.47 1.35L5.41 20z\"/>\n",
              "  </svg>\n",
              "      </button>\n",
              "      \n",
              "  <style>\n",
              "    .colab-df-container {\n",
              "      display:flex;\n",
              "      flex-wrap:wrap;\n",
              "      gap: 12px;\n",
              "    }\n",
              "\n",
              "    .colab-df-convert {\n",
              "      background-color: #E8F0FE;\n",
              "      border: none;\n",
              "      border-radius: 50%;\n",
              "      cursor: pointer;\n",
              "      display: none;\n",
              "      fill: #1967D2;\n",
              "      height: 32px;\n",
              "      padding: 0 0 0 0;\n",
              "      width: 32px;\n",
              "    }\n",
              "\n",
              "    .colab-df-convert:hover {\n",
              "      background-color: #E2EBFA;\n",
              "      box-shadow: 0px 1px 2px rgba(60, 64, 67, 0.3), 0px 1px 3px 1px rgba(60, 64, 67, 0.15);\n",
              "      fill: #174EA6;\n",
              "    }\n",
              "\n",
              "    [theme=dark] .colab-df-convert {\n",
              "      background-color: #3B4455;\n",
              "      fill: #D2E3FC;\n",
              "    }\n",
              "\n",
              "    [theme=dark] .colab-df-convert:hover {\n",
              "      background-color: #434B5C;\n",
              "      box-shadow: 0px 1px 3px 1px rgba(0, 0, 0, 0.15);\n",
              "      filter: drop-shadow(0px 1px 2px rgba(0, 0, 0, 0.3));\n",
              "      fill: #FFFFFF;\n",
              "    }\n",
              "  </style>\n",
              "\n",
              "      <script>\n",
              "        const buttonEl =\n",
              "          document.querySelector('#df-33ca239f-7840-4f67-a5c8-eca9289456a7 button.colab-df-convert');\n",
              "        buttonEl.style.display =\n",
              "          google.colab.kernel.accessAllowed ? 'block' : 'none';\n",
              "\n",
              "        async function convertToInteractive(key) {\n",
              "          const element = document.querySelector('#df-33ca239f-7840-4f67-a5c8-eca9289456a7');\n",
              "          const dataTable =\n",
              "            await google.colab.kernel.invokeFunction('convertToInteractive',\n",
              "                                                     [key], {});\n",
              "          if (!dataTable) return;\n",
              "\n",
              "          const docLinkHtml = 'Like what you see? Visit the ' +\n",
              "            '<a target=\"_blank\" href=https://colab.research.google.com/notebooks/data_table.ipynb>data table notebook</a>'\n",
              "            + ' to learn more about interactive tables.';\n",
              "          element.innerHTML = '';\n",
              "          dataTable['output_type'] = 'display_data';\n",
              "          await google.colab.output.renderOutput(dataTable, element);\n",
              "          const docLink = document.createElement('div');\n",
              "          docLink.innerHTML = docLinkHtml;\n",
              "          element.appendChild(docLink);\n",
              "        }\n",
              "      </script>\n",
              "    </div>\n",
              "  </div>\n",
              "  "
            ]
          },
          "metadata": {},
          "execution_count": 37
        }
      ],
      "execution_count": 37
    },
    {
      "cell_type": "code",
      "metadata": {
        "trusted": true,
        "_uuid": "438c0e79c90e4abc8579e4d007e89366e9105bf0",
        "colab": {
          "base_uri": "https://localhost:8080/",
          "height": 237
        },
        "id": "HfRFukXrjY5X",
        "outputId": "99e06014-2acb-4cd9-a2b7-cc0039f2ad78",
        "cell_id": "00033-4d7d5827-10f5-4cbd-8668-dfea81c517e4",
        "deepnote_to_be_reexecuted": false,
        "source_hash": "a596929e",
        "execution_start": 1653484695756,
        "execution_millis": 65,
        "deepnote_cell_type": "code",
        "deepnote_cell_height": 485
      },
      "source": [
        "#merge with monetary dataframe to get a table with the 3 columns\n",
        "rfm_df = temp_df.merge(monetary_df,on='CustomerID')\n",
        "#use CustomerID as index\n",
        "rfm_df.set_index('CustomerID',inplace=True)\n",
        "#check the head\n",
        "rfm_df.head()"
      ],
      "outputs": [
        {
          "output_type": "execute_result",
          "data": {
            "text/plain": [
              "            Recency  Frequency  Monetary\n",
              "CustomerID                              \n",
              "12747           109          5    191.85\n",
              "12748            70         96   1054.43\n",
              "12749           130          3     67.00\n",
              "12820            74          1     15.00\n",
              "12821           214          1     19.92"
            ],
            "text/html": [
              "\n",
              "  <div id=\"df-3f1bd937-26c8-4bcc-9d09-7690b0db6626\">\n",
              "    <div class=\"colab-df-container\">\n",
              "      <div>\n",
              "<style scoped>\n",
              "    .dataframe tbody tr th:only-of-type {\n",
              "        vertical-align: middle;\n",
              "    }\n",
              "\n",
              "    .dataframe tbody tr th {\n",
              "        vertical-align: top;\n",
              "    }\n",
              "\n",
              "    .dataframe thead th {\n",
              "        text-align: right;\n",
              "    }\n",
              "</style>\n",
              "<table border=\"1\" class=\"dataframe\">\n",
              "  <thead>\n",
              "    <tr style=\"text-align: right;\">\n",
              "      <th></th>\n",
              "      <th>Recency</th>\n",
              "      <th>Frequency</th>\n",
              "      <th>Monetary</th>\n",
              "    </tr>\n",
              "    <tr>\n",
              "      <th>CustomerID</th>\n",
              "      <th></th>\n",
              "      <th></th>\n",
              "      <th></th>\n",
              "    </tr>\n",
              "  </thead>\n",
              "  <tbody>\n",
              "    <tr>\n",
              "      <th>12747</th>\n",
              "      <td>109</td>\n",
              "      <td>5</td>\n",
              "      <td>191.85</td>\n",
              "    </tr>\n",
              "    <tr>\n",
              "      <th>12748</th>\n",
              "      <td>70</td>\n",
              "      <td>96</td>\n",
              "      <td>1054.43</td>\n",
              "    </tr>\n",
              "    <tr>\n",
              "      <th>12749</th>\n",
              "      <td>130</td>\n",
              "      <td>3</td>\n",
              "      <td>67.00</td>\n",
              "    </tr>\n",
              "    <tr>\n",
              "      <th>12820</th>\n",
              "      <td>74</td>\n",
              "      <td>1</td>\n",
              "      <td>15.00</td>\n",
              "    </tr>\n",
              "    <tr>\n",
              "      <th>12821</th>\n",
              "      <td>214</td>\n",
              "      <td>1</td>\n",
              "      <td>19.92</td>\n",
              "    </tr>\n",
              "  </tbody>\n",
              "</table>\n",
              "</div>\n",
              "      <button class=\"colab-df-convert\" onclick=\"convertToInteractive('df-3f1bd937-26c8-4bcc-9d09-7690b0db6626')\"\n",
              "              title=\"Convert this dataframe to an interactive table.\"\n",
              "              style=\"display:none;\">\n",
              "        \n",
              "  <svg xmlns=\"http://www.w3.org/2000/svg\" height=\"24px\"viewBox=\"0 0 24 24\"\n",
              "       width=\"24px\">\n",
              "    <path d=\"M0 0h24v24H0V0z\" fill=\"none\"/>\n",
              "    <path d=\"M18.56 5.44l.94 2.06.94-2.06 2.06-.94-2.06-.94-.94-2.06-.94 2.06-2.06.94zm-11 1L8.5 8.5l.94-2.06 2.06-.94-2.06-.94L8.5 2.5l-.94 2.06-2.06.94zm10 10l.94 2.06.94-2.06 2.06-.94-2.06-.94-.94-2.06-.94 2.06-2.06.94z\"/><path d=\"M17.41 7.96l-1.37-1.37c-.4-.4-.92-.59-1.43-.59-.52 0-1.04.2-1.43.59L10.3 9.45l-7.72 7.72c-.78.78-.78 2.05 0 2.83L4 21.41c.39.39.9.59 1.41.59.51 0 1.02-.2 1.41-.59l7.78-7.78 2.81-2.81c.8-.78.8-2.07 0-2.86zM5.41 20L4 18.59l7.72-7.72 1.47 1.35L5.41 20z\"/>\n",
              "  </svg>\n",
              "      </button>\n",
              "      \n",
              "  <style>\n",
              "    .colab-df-container {\n",
              "      display:flex;\n",
              "      flex-wrap:wrap;\n",
              "      gap: 12px;\n",
              "    }\n",
              "\n",
              "    .colab-df-convert {\n",
              "      background-color: #E8F0FE;\n",
              "      border: none;\n",
              "      border-radius: 50%;\n",
              "      cursor: pointer;\n",
              "      display: none;\n",
              "      fill: #1967D2;\n",
              "      height: 32px;\n",
              "      padding: 0 0 0 0;\n",
              "      width: 32px;\n",
              "    }\n",
              "\n",
              "    .colab-df-convert:hover {\n",
              "      background-color: #E2EBFA;\n",
              "      box-shadow: 0px 1px 2px rgba(60, 64, 67, 0.3), 0px 1px 3px 1px rgba(60, 64, 67, 0.15);\n",
              "      fill: #174EA6;\n",
              "    }\n",
              "\n",
              "    [theme=dark] .colab-df-convert {\n",
              "      background-color: #3B4455;\n",
              "      fill: #D2E3FC;\n",
              "    }\n",
              "\n",
              "    [theme=dark] .colab-df-convert:hover {\n",
              "      background-color: #434B5C;\n",
              "      box-shadow: 0px 1px 3px 1px rgba(0, 0, 0, 0.15);\n",
              "      filter: drop-shadow(0px 1px 2px rgba(0, 0, 0, 0.3));\n",
              "      fill: #FFFFFF;\n",
              "    }\n",
              "  </style>\n",
              "\n",
              "      <script>\n",
              "        const buttonEl =\n",
              "          document.querySelector('#df-3f1bd937-26c8-4bcc-9d09-7690b0db6626 button.colab-df-convert');\n",
              "        buttonEl.style.display =\n",
              "          google.colab.kernel.accessAllowed ? 'block' : 'none';\n",
              "\n",
              "        async function convertToInteractive(key) {\n",
              "          const element = document.querySelector('#df-3f1bd937-26c8-4bcc-9d09-7690b0db6626');\n",
              "          const dataTable =\n",
              "            await google.colab.kernel.invokeFunction('convertToInteractive',\n",
              "                                                     [key], {});\n",
              "          if (!dataTable) return;\n",
              "\n",
              "          const docLinkHtml = 'Like what you see? Visit the ' +\n",
              "            '<a target=\"_blank\" href=https://colab.research.google.com/notebooks/data_table.ipynb>data table notebook</a>'\n",
              "            + ' to learn more about interactive tables.';\n",
              "          element.innerHTML = '';\n",
              "          dataTable['output_type'] = 'display_data';\n",
              "          await google.colab.output.renderOutput(dataTable, element);\n",
              "          const docLink = document.createElement('div');\n",
              "          docLink.innerHTML = docLinkHtml;\n",
              "          element.appendChild(docLink);\n",
              "        }\n",
              "      </script>\n",
              "    </div>\n",
              "  </div>\n",
              "  "
            ]
          },
          "metadata": {},
          "execution_count": 38
        }
      ],
      "execution_count": 38
    },
    {
      "cell_type": "markdown",
      "source": [
        "## RFM Table Correctness verification"
      ],
      "metadata": {
        "_uuid": "bb444d9ad0de911c791a4b404dd227004c589ef8",
        "id": "Xi6PK05qjY5X",
        "cell_id": "00034-03b35334-7e80-41a4-88fb-f39e8c3a36a8",
        "deepnote_cell_type": "markdown",
        "deepnote_cell_height": 70
      }
    },
    {
      "cell_type": "code",
      "metadata": {
        "trusted": true,
        "_uuid": "a10b2e7884466bff185104c353ded2621a2ddb86",
        "colab": {
          "base_uri": "https://localhost:8080/",
          "height": 142
        },
        "id": "H7PJms0FjY5X",
        "outputId": "dc60b584-29e4-4641-a7ab-284732375432",
        "cell_id": "00035-330ac658-b00a-4030-a9f4-70aedd4b64cb",
        "deepnote_to_be_reexecuted": false,
        "source_hash": "195c469e",
        "execution_start": 1653484695813,
        "execution_millis": 68,
        "deepnote_cell_type": "code",
        "deepnote_cell_height": 246
      },
      "source": [
        "retail_uk[retail_uk['CustomerID']=='12820']"
      ],
      "outputs": [
        {
          "output_type": "execute_result",
          "data": {
            "text/plain": [
              "       InvoiceNo StockCode                         Description  Quantity  \\\n",
              "360567    568236     23328  SET 6 SCHOOL MILK BOTTLES IN CRATE         4   \n",
              "\n",
              "            InvoiceDate  UnitPrice CustomerID         Country        date  \\\n",
              "360567  9/26/2011 11:49       3.75      12820  United Kingdom  2011-09-26   \n",
              "\n",
              "        TotalCost  \n",
              "360567       15.0  "
            ],
            "text/html": [
              "\n",
              "  <div id=\"df-22e0de4b-53f0-494b-86f5-26dd09cc8867\">\n",
              "    <div class=\"colab-df-container\">\n",
              "      <div>\n",
              "<style scoped>\n",
              "    .dataframe tbody tr th:only-of-type {\n",
              "        vertical-align: middle;\n",
              "    }\n",
              "\n",
              "    .dataframe tbody tr th {\n",
              "        vertical-align: top;\n",
              "    }\n",
              "\n",
              "    .dataframe thead th {\n",
              "        text-align: right;\n",
              "    }\n",
              "</style>\n",
              "<table border=\"1\" class=\"dataframe\">\n",
              "  <thead>\n",
              "    <tr style=\"text-align: right;\">\n",
              "      <th></th>\n",
              "      <th>InvoiceNo</th>\n",
              "      <th>StockCode</th>\n",
              "      <th>Description</th>\n",
              "      <th>Quantity</th>\n",
              "      <th>InvoiceDate</th>\n",
              "      <th>UnitPrice</th>\n",
              "      <th>CustomerID</th>\n",
              "      <th>Country</th>\n",
              "      <th>date</th>\n",
              "      <th>TotalCost</th>\n",
              "    </tr>\n",
              "  </thead>\n",
              "  <tbody>\n",
              "    <tr>\n",
              "      <th>360567</th>\n",
              "      <td>568236</td>\n",
              "      <td>23328</td>\n",
              "      <td>SET 6 SCHOOL MILK BOTTLES IN CRATE</td>\n",
              "      <td>4</td>\n",
              "      <td>9/26/2011 11:49</td>\n",
              "      <td>3.75</td>\n",
              "      <td>12820</td>\n",
              "      <td>United Kingdom</td>\n",
              "      <td>2011-09-26</td>\n",
              "      <td>15.0</td>\n",
              "    </tr>\n",
              "  </tbody>\n",
              "</table>\n",
              "</div>\n",
              "      <button class=\"colab-df-convert\" onclick=\"convertToInteractive('df-22e0de4b-53f0-494b-86f5-26dd09cc8867')\"\n",
              "              title=\"Convert this dataframe to an interactive table.\"\n",
              "              style=\"display:none;\">\n",
              "        \n",
              "  <svg xmlns=\"http://www.w3.org/2000/svg\" height=\"24px\"viewBox=\"0 0 24 24\"\n",
              "       width=\"24px\">\n",
              "    <path d=\"M0 0h24v24H0V0z\" fill=\"none\"/>\n",
              "    <path d=\"M18.56 5.44l.94 2.06.94-2.06 2.06-.94-2.06-.94-.94-2.06-.94 2.06-2.06.94zm-11 1L8.5 8.5l.94-2.06 2.06-.94-2.06-.94L8.5 2.5l-.94 2.06-2.06.94zm10 10l.94 2.06.94-2.06 2.06-.94-2.06-.94-.94-2.06-.94 2.06-2.06.94z\"/><path d=\"M17.41 7.96l-1.37-1.37c-.4-.4-.92-.59-1.43-.59-.52 0-1.04.2-1.43.59L10.3 9.45l-7.72 7.72c-.78.78-.78 2.05 0 2.83L4 21.41c.39.39.9.59 1.41.59.51 0 1.02-.2 1.41-.59l7.78-7.78 2.81-2.81c.8-.78.8-2.07 0-2.86zM5.41 20L4 18.59l7.72-7.72 1.47 1.35L5.41 20z\"/>\n",
              "  </svg>\n",
              "      </button>\n",
              "      \n",
              "  <style>\n",
              "    .colab-df-container {\n",
              "      display:flex;\n",
              "      flex-wrap:wrap;\n",
              "      gap: 12px;\n",
              "    }\n",
              "\n",
              "    .colab-df-convert {\n",
              "      background-color: #E8F0FE;\n",
              "      border: none;\n",
              "      border-radius: 50%;\n",
              "      cursor: pointer;\n",
              "      display: none;\n",
              "      fill: #1967D2;\n",
              "      height: 32px;\n",
              "      padding: 0 0 0 0;\n",
              "      width: 32px;\n",
              "    }\n",
              "\n",
              "    .colab-df-convert:hover {\n",
              "      background-color: #E2EBFA;\n",
              "      box-shadow: 0px 1px 2px rgba(60, 64, 67, 0.3), 0px 1px 3px 1px rgba(60, 64, 67, 0.15);\n",
              "      fill: #174EA6;\n",
              "    }\n",
              "\n",
              "    [theme=dark] .colab-df-convert {\n",
              "      background-color: #3B4455;\n",
              "      fill: #D2E3FC;\n",
              "    }\n",
              "\n",
              "    [theme=dark] .colab-df-convert:hover {\n",
              "      background-color: #434B5C;\n",
              "      box-shadow: 0px 1px 3px 1px rgba(0, 0, 0, 0.15);\n",
              "      filter: drop-shadow(0px 1px 2px rgba(0, 0, 0, 0.3));\n",
              "      fill: #FFFFFF;\n",
              "    }\n",
              "  </style>\n",
              "\n",
              "      <script>\n",
              "        const buttonEl =\n",
              "          document.querySelector('#df-22e0de4b-53f0-494b-86f5-26dd09cc8867 button.colab-df-convert');\n",
              "        buttonEl.style.display =\n",
              "          google.colab.kernel.accessAllowed ? 'block' : 'none';\n",
              "\n",
              "        async function convertToInteractive(key) {\n",
              "          const element = document.querySelector('#df-22e0de4b-53f0-494b-86f5-26dd09cc8867');\n",
              "          const dataTable =\n",
              "            await google.colab.kernel.invokeFunction('convertToInteractive',\n",
              "                                                     [key], {});\n",
              "          if (!dataTable) return;\n",
              "\n",
              "          const docLinkHtml = 'Like what you see? Visit the ' +\n",
              "            '<a target=\"_blank\" href=https://colab.research.google.com/notebooks/data_table.ipynb>data table notebook</a>'\n",
              "            + ' to learn more about interactive tables.';\n",
              "          element.innerHTML = '';\n",
              "          dataTable['output_type'] = 'display_data';\n",
              "          await google.colab.output.renderOutput(dataTable, element);\n",
              "          const docLink = document.createElement('div');\n",
              "          docLink.innerHTML = docLinkHtml;\n",
              "          element.appendChild(docLink);\n",
              "        }\n",
              "      </script>\n",
              "    </div>\n",
              "  </div>\n",
              "  "
            ]
          },
          "metadata": {},
          "execution_count": 39
        }
      ],
      "execution_count": 39
    },
    {
      "cell_type": "code",
      "metadata": {
        "trusted": true,
        "_uuid": "4221bca5449a3ac5835de849978dfd5cded89349",
        "colab": {
          "base_uri": "https://localhost:8080/"
        },
        "id": "0tkAabJzjY5Y",
        "outputId": "02f33199-7127-4eab-c29e-33e000f631fb",
        "cell_id": "00036-76ab163c-c873-405e-83f6-32517290c4ca",
        "deepnote_to_be_reexecuted": false,
        "source_hash": "a72cd210",
        "execution_start": 1653484695884,
        "execution_millis": 17,
        "deepnote_cell_type": "code",
        "deepnote_cell_height": 118.1875,
        "deepnote_output_heights": [
          21.1875
        ]
      },
      "source": [
        "(now - dt.date(2011,9,26)).days == 74"
      ],
      "outputs": [
        {
          "output_type": "execute_result",
          "data": {
            "text/plain": [
              "True"
            ]
          },
          "metadata": {},
          "execution_count": 40
        }
      ],
      "execution_count": 40
    },
    {
      "cell_type": "markdown",
      "source": [
        "## Customer segments with RFM Model"
      ],
      "metadata": {
        "_uuid": "5b4b281a23d455056581cb1d58275b36e0a58990",
        "id": "M0k9eYlPjY5Y",
        "cell_id": "00037-c5fb51fc-a726-4f06-9f78-638539a7113b",
        "deepnote_cell_type": "markdown",
        "deepnote_cell_height": 70
      }
    },
    {
      "cell_type": "markdown",
      "source": [
        "The simplest way to create customers segments from RFM Model is to use ** Tertiles**. We assign a score from 1 to 3 to Recency, Frequency and Monetary. Four is the best/highest value, and one is the lowest/worst value. A final RFM score is calculated simply by combining individual RFM score numbers."
      ],
      "metadata": {
        "_uuid": "ad8f715fe3b5bd0380386420f62c5fee233c39c2",
        "id": "eDy8g6AOjY5Y",
        "cell_id": "00038-9ef0f8c6-2c2b-45f2-9c0f-2d2526bfdafb",
        "deepnote_cell_type": "markdown",
        "deepnote_cell_height": 155.953125
      }
    },
    {
      "cell_type": "markdown",
      "source": [
        "### RFM Tertiles"
      ],
      "metadata": {
        "_uuid": "fa4f401ebb36f68747f0315db84bb65bb8054a2e",
        "id": "i2Nv9xMDjY5Y",
        "cell_id": "00039-a02f713c-a39c-404f-8c8c-3e282050a002",
        "deepnote_cell_type": "markdown",
        "deepnote_cell_height": 62
      }
    },
    {
      "cell_type": "code",
      "metadata": {
        "trusted": true,
        "_uuid": "d3c0d797ed33433723b8c22d98134e0da2360f13",
        "id": "iT0N0Jk3jY5Y",
        "cell_id": "00040-e4b15444-8b91-403d-850c-6f9015585f82",
        "deepnote_to_be_reexecuted": false,
        "source_hash": "8c86b21c",
        "execution_start": 1653484695909,
        "execution_millis": 39,
        "deepnote_cell_type": "code",
        "deepnote_cell_height": 331
      },
      "source": [
        "tertiles = rfm_df.quantile(q=[0.33,0.66])\n",
        "tertiles = rfm_df.quantile(q=[0.33,0.66])"
      ],
      "outputs": [],
      "execution_count": 41
    },
    {
      "cell_type": "code",
      "metadata": {
        "trusted": true,
        "_uuid": "490b462479549721728b54abeffe461da4b14414",
        "colab": {
          "base_uri": "https://localhost:8080/"
        },
        "id": "y8cBcmkojY5Y",
        "outputId": "d888e084-bc25-49c4-8d79-6cee480a1d52",
        "cell_id": "00041-115ff571-f5a5-4127-8d29-d70a907cab4f",
        "deepnote_to_be_reexecuted": false,
        "source_hash": "3b7a4bee",
        "execution_start": 1653484695953,
        "execution_millis": 16,
        "deepnote_cell_type": "code",
        "deepnote_cell_height": 156.5625,
        "deepnote_output_heights": [
          59.5625
        ]
      },
      "source": [
        "tertiles.to_dict()"
      ],
      "outputs": [
        {
          "output_type": "execute_result",
          "data": {
            "text/plain": [
              "{'Recency': {0.33: 92.0, 0.66: 156.0},\n",
              " 'Frequency': {0.33: 1.0, 0.66: 3.0},\n",
              " 'Monetary': {0.33: 19.9, 0.66: 62.400000000000006}}"
            ]
          },
          "metadata": {},
          "execution_count": 42
        }
      ],
      "execution_count": 42
    },
    {
      "cell_type": "markdown",
      "source": [
        "### Creation of RFM Segments"
      ],
      "metadata": {
        "_uuid": "ea328b04e3754e58a50a6ed3e6b7167f06a87850",
        "id": "eq3ZyV9tjY5Y",
        "cell_id": "00042-a946f18b-8d3a-4fb9-be18-988aa328b882",
        "deepnote_cell_type": "markdown",
        "deepnote_cell_height": 62
      }
    },
    {
      "cell_type": "markdown",
      "source": [
        "Now that we knew our customers segments we can choose how to target or deal with each segment.\n",
        "\n",
        "For example:\n",
        "\n",
        "**Best Customers - Champions**: Reward them. They can be early adopters to new products. Suggest them \"Refer a friend\"."
      ],
      "metadata": {
        "_uuid": "c5f63ac35884a02c4af86d68c0d266de46fd5eb9",
        "id": "1aQxCvp9jY5a",
        "cell_id": "00055-15f2f4de-340b-4943-b934-ca1e50b47bae",
        "deepnote_cell_type": "markdown",
        "deepnote_cell_height": 197.953125
      }
    },
    {
      "cell_type": "code",
      "metadata": {
        "trusted": true,
        "collapsed": true,
        "_uuid": "b118a05b7f653b49cfbec09a05aa31e61f08a8c3",
        "id": "Tm4ZVFGJjY5a",
        "cell_id": "00056-a4794aa9-c7e9-4837-a419-7f3299f380bc",
        "deepnote_to_be_reexecuted": false,
        "source_hash": "bacad439",
        "execution_start": 1653484696721,
        "execution_millis": 0,
        "deepnote_cell_type": "code",
        "deepnote_cell_height": 405
      },
      "source": [
        "# Arguments (x = value, p = recency, monetary_value, frequency, d = tertiles dict)\n",
        "def RScore(x,p,d):\n",
        "    if x <= d[p][0.33]:\n",
        "        return 3\n",
        "    elif x <= d[p][0.66]:\n",
        "        return 2\n",
        "    else:\n",
        "        return 1\n",
        "# Arguments (x = value, p = recency, monetary_value, frequency, k = tertiles dict)\n",
        "def FMScore(x,p,d):\n",
        "    if x <= d[p][0.33]:\n",
        "        return 1\n",
        "    elif x <= d[p][0.66]:\n",
        "        return 2\n",
        "    else:\n",
        "        return 3"
      ],
      "outputs": [],
      "execution_count": 43
    },
    {
      "cell_type": "code",
      "metadata": {
        "trusted": true,
        "collapsed": true,
        "_uuid": "8909b74681397a1612b93a638d2ed70e337173b8",
        "id": "5BnR6gmAjY5a",
        "cell_id": "00057-dff70392-edca-41ca-82fa-9c0d3d0800b1",
        "deepnote_to_be_reexecuted": false,
        "source_hash": "fb3b8e31",
        "execution_start": 1653484696723,
        "execution_millis": 365,
        "deepnote_cell_type": "code",
        "deepnote_cell_height": 153
      },
      "source": [
        "#create rfm segmentation table\n",
        "rfm_segmentation = rfm_df\n",
        "rfm_segmentation['R_Tertile'] = rfm_segmentation['Recency'].apply(RScore, args=('Recency',tertiles,))\n",
        "rfm_segmentation['F_Tertile'] = rfm_segmentation['Frequency'].apply(FMScore, args=('Frequency',tertiles,))\n",
        "rfm_segmentation['M_Tertile'] = rfm_segmentation['Monetary'].apply(FMScore, args=('Monetary',tertiles,))"
      ],
      "outputs": [],
      "execution_count": 44
    },
    {
      "cell_type": "code",
      "metadata": {
        "colab": {
          "base_uri": "https://localhost:8080/",
          "height": 237
        },
        "id": "1_e3VeJ3nZRE",
        "outputId": "52f6ae43-e3da-4efa-cc85-dceaef5df5d8",
        "cell_id": "00058-f7d15278-b4d4-47dc-9f0e-3056d4c7b2d0",
        "deepnote_to_be_reexecuted": false,
        "source_hash": "a1506fe7",
        "execution_start": 1653484697096,
        "execution_millis": 76,
        "deepnote_cell_type": "code",
        "deepnote_cell_height": 464
      },
      "source": [
        "rfm_segmentation['RFM_Score'] = rfm_segmentation.R_Tertile.map(str) \\\n",
        "                            + rfm_segmentation.F_Tertile.map(str) \\\n",
        "                            + rfm_segmentation.M_Tertile.map(str)\n",
        "rfm_segmentation.head()"
      ],
      "outputs": [
        {
          "output_type": "execute_result",
          "data": {
            "text/plain": [
              "            Recency  Frequency  Monetary  R_Tertile  F_Tertile  M_Tertile  \\\n",
              "CustomerID                                                                  \n",
              "12747           109          5    191.85          2          3          3   \n",
              "12748            70         96   1054.43          3          3          3   \n",
              "12749           130          3     67.00          2          2          3   \n",
              "12820            74          1     15.00          3          1          1   \n",
              "12821           214          1     19.92          1          1          2   \n",
              "\n",
              "           RFM_Score  \n",
              "CustomerID            \n",
              "12747            233  \n",
              "12748            333  \n",
              "12749            223  \n",
              "12820            311  \n",
              "12821            112  "
            ],
            "text/html": [
              "\n",
              "  <div id=\"df-b3a7310a-e66c-4e90-b432-4381c6d16540\">\n",
              "    <div class=\"colab-df-container\">\n",
              "      <div>\n",
              "<style scoped>\n",
              "    .dataframe tbody tr th:only-of-type {\n",
              "        vertical-align: middle;\n",
              "    }\n",
              "\n",
              "    .dataframe tbody tr th {\n",
              "        vertical-align: top;\n",
              "    }\n",
              "\n",
              "    .dataframe thead th {\n",
              "        text-align: right;\n",
              "    }\n",
              "</style>\n",
              "<table border=\"1\" class=\"dataframe\">\n",
              "  <thead>\n",
              "    <tr style=\"text-align: right;\">\n",
              "      <th></th>\n",
              "      <th>Recency</th>\n",
              "      <th>Frequency</th>\n",
              "      <th>Monetary</th>\n",
              "      <th>R_Tertile</th>\n",
              "      <th>F_Tertile</th>\n",
              "      <th>M_Tertile</th>\n",
              "      <th>RFM_Score</th>\n",
              "    </tr>\n",
              "    <tr>\n",
              "      <th>CustomerID</th>\n",
              "      <th></th>\n",
              "      <th></th>\n",
              "      <th></th>\n",
              "      <th></th>\n",
              "      <th></th>\n",
              "      <th></th>\n",
              "      <th></th>\n",
              "    </tr>\n",
              "  </thead>\n",
              "  <tbody>\n",
              "    <tr>\n",
              "      <th>12747</th>\n",
              "      <td>109</td>\n",
              "      <td>5</td>\n",
              "      <td>191.85</td>\n",
              "      <td>2</td>\n",
              "      <td>3</td>\n",
              "      <td>3</td>\n",
              "      <td>233</td>\n",
              "    </tr>\n",
              "    <tr>\n",
              "      <th>12748</th>\n",
              "      <td>70</td>\n",
              "      <td>96</td>\n",
              "      <td>1054.43</td>\n",
              "      <td>3</td>\n",
              "      <td>3</td>\n",
              "      <td>3</td>\n",
              "      <td>333</td>\n",
              "    </tr>\n",
              "    <tr>\n",
              "      <th>12749</th>\n",
              "      <td>130</td>\n",
              "      <td>3</td>\n",
              "      <td>67.00</td>\n",
              "      <td>2</td>\n",
              "      <td>2</td>\n",
              "      <td>3</td>\n",
              "      <td>223</td>\n",
              "    </tr>\n",
              "    <tr>\n",
              "      <th>12820</th>\n",
              "      <td>74</td>\n",
              "      <td>1</td>\n",
              "      <td>15.00</td>\n",
              "      <td>3</td>\n",
              "      <td>1</td>\n",
              "      <td>1</td>\n",
              "      <td>311</td>\n",
              "    </tr>\n",
              "    <tr>\n",
              "      <th>12821</th>\n",
              "      <td>214</td>\n",
              "      <td>1</td>\n",
              "      <td>19.92</td>\n",
              "      <td>1</td>\n",
              "      <td>1</td>\n",
              "      <td>2</td>\n",
              "      <td>112</td>\n",
              "    </tr>\n",
              "  </tbody>\n",
              "</table>\n",
              "</div>\n",
              "      <button class=\"colab-df-convert\" onclick=\"convertToInteractive('df-b3a7310a-e66c-4e90-b432-4381c6d16540')\"\n",
              "              title=\"Convert this dataframe to an interactive table.\"\n",
              "              style=\"display:none;\">\n",
              "        \n",
              "  <svg xmlns=\"http://www.w3.org/2000/svg\" height=\"24px\"viewBox=\"0 0 24 24\"\n",
              "       width=\"24px\">\n",
              "    <path d=\"M0 0h24v24H0V0z\" fill=\"none\"/>\n",
              "    <path d=\"M18.56 5.44l.94 2.06.94-2.06 2.06-.94-2.06-.94-.94-2.06-.94 2.06-2.06.94zm-11 1L8.5 8.5l.94-2.06 2.06-.94-2.06-.94L8.5 2.5l-.94 2.06-2.06.94zm10 10l.94 2.06.94-2.06 2.06-.94-2.06-.94-.94-2.06-.94 2.06-2.06.94z\"/><path d=\"M17.41 7.96l-1.37-1.37c-.4-.4-.92-.59-1.43-.59-.52 0-1.04.2-1.43.59L10.3 9.45l-7.72 7.72c-.78.78-.78 2.05 0 2.83L4 21.41c.39.39.9.59 1.41.59.51 0 1.02-.2 1.41-.59l7.78-7.78 2.81-2.81c.8-.78.8-2.07 0-2.86zM5.41 20L4 18.59l7.72-7.72 1.47 1.35L5.41 20z\"/>\n",
              "  </svg>\n",
              "      </button>\n",
              "      \n",
              "  <style>\n",
              "    .colab-df-container {\n",
              "      display:flex;\n",
              "      flex-wrap:wrap;\n",
              "      gap: 12px;\n",
              "    }\n",
              "\n",
              "    .colab-df-convert {\n",
              "      background-color: #E8F0FE;\n",
              "      border: none;\n",
              "      border-radius: 50%;\n",
              "      cursor: pointer;\n",
              "      display: none;\n",
              "      fill: #1967D2;\n",
              "      height: 32px;\n",
              "      padding: 0 0 0 0;\n",
              "      width: 32px;\n",
              "    }\n",
              "\n",
              "    .colab-df-convert:hover {\n",
              "      background-color: #E2EBFA;\n",
              "      box-shadow: 0px 1px 2px rgba(60, 64, 67, 0.3), 0px 1px 3px 1px rgba(60, 64, 67, 0.15);\n",
              "      fill: #174EA6;\n",
              "    }\n",
              "\n",
              "    [theme=dark] .colab-df-convert {\n",
              "      background-color: #3B4455;\n",
              "      fill: #D2E3FC;\n",
              "    }\n",
              "\n",
              "    [theme=dark] .colab-df-convert:hover {\n",
              "      background-color: #434B5C;\n",
              "      box-shadow: 0px 1px 3px 1px rgba(0, 0, 0, 0.15);\n",
              "      filter: drop-shadow(0px 1px 2px rgba(0, 0, 0, 0.3));\n",
              "      fill: #FFFFFF;\n",
              "    }\n",
              "  </style>\n",
              "\n",
              "      <script>\n",
              "        const buttonEl =\n",
              "          document.querySelector('#df-b3a7310a-e66c-4e90-b432-4381c6d16540 button.colab-df-convert');\n",
              "        buttonEl.style.display =\n",
              "          google.colab.kernel.accessAllowed ? 'block' : 'none';\n",
              "\n",
              "        async function convertToInteractive(key) {\n",
              "          const element = document.querySelector('#df-b3a7310a-e66c-4e90-b432-4381c6d16540');\n",
              "          const dataTable =\n",
              "            await google.colab.kernel.invokeFunction('convertToInteractive',\n",
              "                                                     [key], {});\n",
              "          if (!dataTable) return;\n",
              "\n",
              "          const docLinkHtml = 'Like what you see? Visit the ' +\n",
              "            '<a target=\"_blank\" href=https://colab.research.google.com/notebooks/data_table.ipynb>data table notebook</a>'\n",
              "            + ' to learn more about interactive tables.';\n",
              "          element.innerHTML = '';\n",
              "          dataTable['output_type'] = 'display_data';\n",
              "          await google.colab.output.renderOutput(dataTable, element);\n",
              "          const docLink = document.createElement('div');\n",
              "          docLink.innerHTML = docLinkHtml;\n",
              "          element.appendChild(docLink);\n",
              "        }\n",
              "      </script>\n",
              "    </div>\n",
              "  </div>\n",
              "  "
            ]
          },
          "metadata": {},
          "execution_count": 45
        }
      ],
      "execution_count": 45
    },
    {
      "cell_type": "code",
      "metadata": {
        "id": "zf5-elPHnZpe",
        "cell_id": "00059-5e0d7e1c-3bd1-4d87-be83-08eccc3bdd1d",
        "deepnote_to_be_reexecuted": false,
        "source_hash": "bc651894",
        "execution_start": 1653484697180,
        "execution_millis": 2,
        "deepnote_cell_type": "code",
        "deepnote_cell_height": 99
      },
      "source": [
        "import requests\n",
        "from io import StringIO"
      ],
      "outputs": [],
      "execution_count": 46
    },
    {
      "cell_type": "code",
      "metadata": {
        "id": "M8yNe4m8oUgQ",
        "cell_id": "00060-b414e4d1-c3c5-49db-ae84-fabe5cba4ee2",
        "deepnote_to_be_reexecuted": false,
        "source_hash": "4ff1f4df",
        "execution_start": 1653484697233,
        "execution_millis": 184,
        "deepnote_cell_type": "code",
        "deepnote_cell_height": 117
      },
      "source": [
        "segment_name = {'112':'ABOUT TO SLEEP',\n",
        "                '113':'ABOUT TO SLEEP', \n",
        "                '121':'ABOUT TO SLEEP',\n",
        "\n",
        "                '122':'ABOUT TO SLEEP',\n",
        "                '131':'ABOUT TO SLEEP', \n",
        "                '211':'ABOUT TO SLEEP',\n",
        "\n",
        "                '212':'ABOUT TO SLEEP',\n",
        "                '221':'ABOUT TO SLEEP', \n",
        "\n",
        "                '311':'RECENT CUSTOMER',\n",
        "                '312':'RECENT CUSTOMER', \n",
        "                '313':'RECENT CUSTOMER',\n",
        "\n",
        "                '123':'CANNOT LOOSE THEM',\n",
        "                '132':'CANNOT LOOSE THEM', \n",
        "                '133':'CANNOT LOOSE THEM',\n",
        "\n",
        "                '333':'CHAMPION',\n",
        "                '111':'LOST CUSTOMER',\n",
        "\n",
        "                '233':'LOYAL',\n",
        "                '323':'LOYAL', \n",
        "                '332':'LOYAL',\n",
        "\n",
        "                '223':'POTENTIAL LOYALIST',\n",
        "                '223':'POTENTIAL LOYALIST', \n",
        "                '322':'POTENTIAL LOYALIST',\n",
        "                '331':'POTENTIAL LOYALIST',\n",
        "\n",
        "                '213':'AVERAGE',\n",
        "                '222':'AVERAGE', \n",
        "                '231':'AVERAGE',\n",
        "                '321':'AVERAGE'}"
      ],
      "outputs": [],
      "execution_count": 47
    },
    {
      "cell_type": "code",
      "source": [
        "rfm_segmentation[\"segment_name\"] = rfm_segmentation[\"RFM_Score\"].map(segment_name)"
      ],
      "metadata": {
        "id": "rP-ywJjSbGQP"
      },
      "execution_count": 48,
      "outputs": []
    },
    {
      "cell_type": "code",
      "source": [
        "rfm_segmentation.head()"
      ],
      "metadata": {
        "colab": {
          "base_uri": "https://localhost:8080/",
          "height": 237
        },
        "id": "E-WlTouqbQtR",
        "outputId": "196567cf-1484-4147-c62d-53dbf2bf71d3"
      },
      "execution_count": 49,
      "outputs": [
        {
          "output_type": "execute_result",
          "data": {
            "text/plain": [
              "            Recency  Frequency  Monetary  R_Tertile  F_Tertile  M_Tertile  \\\n",
              "CustomerID                                                                  \n",
              "12747           109          5    191.85          2          3          3   \n",
              "12748            70         96   1054.43          3          3          3   \n",
              "12749           130          3     67.00          2          2          3   \n",
              "12820            74          1     15.00          3          1          1   \n",
              "12821           214          1     19.92          1          1          2   \n",
              "\n",
              "           RFM_Score        segment_name  \n",
              "CustomerID                                \n",
              "12747            233               LOYAL  \n",
              "12748            333            CHAMPION  \n",
              "12749            223  POTENTIAL LOYALIST  \n",
              "12820            311     RECENT CUSTOMER  \n",
              "12821            112      ABOUT TO SLEEP  "
            ],
            "text/html": [
              "\n",
              "  <div id=\"df-73958222-5b4f-4aa2-aca0-940bcce53b36\">\n",
              "    <div class=\"colab-df-container\">\n",
              "      <div>\n",
              "<style scoped>\n",
              "    .dataframe tbody tr th:only-of-type {\n",
              "        vertical-align: middle;\n",
              "    }\n",
              "\n",
              "    .dataframe tbody tr th {\n",
              "        vertical-align: top;\n",
              "    }\n",
              "\n",
              "    .dataframe thead th {\n",
              "        text-align: right;\n",
              "    }\n",
              "</style>\n",
              "<table border=\"1\" class=\"dataframe\">\n",
              "  <thead>\n",
              "    <tr style=\"text-align: right;\">\n",
              "      <th></th>\n",
              "      <th>Recency</th>\n",
              "      <th>Frequency</th>\n",
              "      <th>Monetary</th>\n",
              "      <th>R_Tertile</th>\n",
              "      <th>F_Tertile</th>\n",
              "      <th>M_Tertile</th>\n",
              "      <th>RFM_Score</th>\n",
              "      <th>segment_name</th>\n",
              "    </tr>\n",
              "    <tr>\n",
              "      <th>CustomerID</th>\n",
              "      <th></th>\n",
              "      <th></th>\n",
              "      <th></th>\n",
              "      <th></th>\n",
              "      <th></th>\n",
              "      <th></th>\n",
              "      <th></th>\n",
              "      <th></th>\n",
              "    </tr>\n",
              "  </thead>\n",
              "  <tbody>\n",
              "    <tr>\n",
              "      <th>12747</th>\n",
              "      <td>109</td>\n",
              "      <td>5</td>\n",
              "      <td>191.85</td>\n",
              "      <td>2</td>\n",
              "      <td>3</td>\n",
              "      <td>3</td>\n",
              "      <td>233</td>\n",
              "      <td>LOYAL</td>\n",
              "    </tr>\n",
              "    <tr>\n",
              "      <th>12748</th>\n",
              "      <td>70</td>\n",
              "      <td>96</td>\n",
              "      <td>1054.43</td>\n",
              "      <td>3</td>\n",
              "      <td>3</td>\n",
              "      <td>3</td>\n",
              "      <td>333</td>\n",
              "      <td>CHAMPION</td>\n",
              "    </tr>\n",
              "    <tr>\n",
              "      <th>12749</th>\n",
              "      <td>130</td>\n",
              "      <td>3</td>\n",
              "      <td>67.00</td>\n",
              "      <td>2</td>\n",
              "      <td>2</td>\n",
              "      <td>3</td>\n",
              "      <td>223</td>\n",
              "      <td>POTENTIAL LOYALIST</td>\n",
              "    </tr>\n",
              "    <tr>\n",
              "      <th>12820</th>\n",
              "      <td>74</td>\n",
              "      <td>1</td>\n",
              "      <td>15.00</td>\n",
              "      <td>3</td>\n",
              "      <td>1</td>\n",
              "      <td>1</td>\n",
              "      <td>311</td>\n",
              "      <td>RECENT CUSTOMER</td>\n",
              "    </tr>\n",
              "    <tr>\n",
              "      <th>12821</th>\n",
              "      <td>214</td>\n",
              "      <td>1</td>\n",
              "      <td>19.92</td>\n",
              "      <td>1</td>\n",
              "      <td>1</td>\n",
              "      <td>2</td>\n",
              "      <td>112</td>\n",
              "      <td>ABOUT TO SLEEP</td>\n",
              "    </tr>\n",
              "  </tbody>\n",
              "</table>\n",
              "</div>\n",
              "      <button class=\"colab-df-convert\" onclick=\"convertToInteractive('df-73958222-5b4f-4aa2-aca0-940bcce53b36')\"\n",
              "              title=\"Convert this dataframe to an interactive table.\"\n",
              "              style=\"display:none;\">\n",
              "        \n",
              "  <svg xmlns=\"http://www.w3.org/2000/svg\" height=\"24px\"viewBox=\"0 0 24 24\"\n",
              "       width=\"24px\">\n",
              "    <path d=\"M0 0h24v24H0V0z\" fill=\"none\"/>\n",
              "    <path d=\"M18.56 5.44l.94 2.06.94-2.06 2.06-.94-2.06-.94-.94-2.06-.94 2.06-2.06.94zm-11 1L8.5 8.5l.94-2.06 2.06-.94-2.06-.94L8.5 2.5l-.94 2.06-2.06.94zm10 10l.94 2.06.94-2.06 2.06-.94-2.06-.94-.94-2.06-.94 2.06-2.06.94z\"/><path d=\"M17.41 7.96l-1.37-1.37c-.4-.4-.92-.59-1.43-.59-.52 0-1.04.2-1.43.59L10.3 9.45l-7.72 7.72c-.78.78-.78 2.05 0 2.83L4 21.41c.39.39.9.59 1.41.59.51 0 1.02-.2 1.41-.59l7.78-7.78 2.81-2.81c.8-.78.8-2.07 0-2.86zM5.41 20L4 18.59l7.72-7.72 1.47 1.35L5.41 20z\"/>\n",
              "  </svg>\n",
              "      </button>\n",
              "      \n",
              "  <style>\n",
              "    .colab-df-container {\n",
              "      display:flex;\n",
              "      flex-wrap:wrap;\n",
              "      gap: 12px;\n",
              "    }\n",
              "\n",
              "    .colab-df-convert {\n",
              "      background-color: #E8F0FE;\n",
              "      border: none;\n",
              "      border-radius: 50%;\n",
              "      cursor: pointer;\n",
              "      display: none;\n",
              "      fill: #1967D2;\n",
              "      height: 32px;\n",
              "      padding: 0 0 0 0;\n",
              "      width: 32px;\n",
              "    }\n",
              "\n",
              "    .colab-df-convert:hover {\n",
              "      background-color: #E2EBFA;\n",
              "      box-shadow: 0px 1px 2px rgba(60, 64, 67, 0.3), 0px 1px 3px 1px rgba(60, 64, 67, 0.15);\n",
              "      fill: #174EA6;\n",
              "    }\n",
              "\n",
              "    [theme=dark] .colab-df-convert {\n",
              "      background-color: #3B4455;\n",
              "      fill: #D2E3FC;\n",
              "    }\n",
              "\n",
              "    [theme=dark] .colab-df-convert:hover {\n",
              "      background-color: #434B5C;\n",
              "      box-shadow: 0px 1px 3px 1px rgba(0, 0, 0, 0.15);\n",
              "      filter: drop-shadow(0px 1px 2px rgba(0, 0, 0, 0.3));\n",
              "      fill: #FFFFFF;\n",
              "    }\n",
              "  </style>\n",
              "\n",
              "      <script>\n",
              "        const buttonEl =\n",
              "          document.querySelector('#df-73958222-5b4f-4aa2-aca0-940bcce53b36 button.colab-df-convert');\n",
              "        buttonEl.style.display =\n",
              "          google.colab.kernel.accessAllowed ? 'block' : 'none';\n",
              "\n",
              "        async function convertToInteractive(key) {\n",
              "          const element = document.querySelector('#df-73958222-5b4f-4aa2-aca0-940bcce53b36');\n",
              "          const dataTable =\n",
              "            await google.colab.kernel.invokeFunction('convertToInteractive',\n",
              "                                                     [key], {});\n",
              "          if (!dataTable) return;\n",
              "\n",
              "          const docLinkHtml = 'Like what you see? Visit the ' +\n",
              "            '<a target=\"_blank\" href=https://colab.research.google.com/notebooks/data_table.ipynb>data table notebook</a>'\n",
              "            + ' to learn more about interactive tables.';\n",
              "          element.innerHTML = '';\n",
              "          dataTable['output_type'] = 'display_data';\n",
              "          await google.colab.output.renderOutput(dataTable, element);\n",
              "          const docLink = document.createElement('div');\n",
              "          docLink.innerHTML = docLinkHtml;\n",
              "          element.appendChild(docLink);\n",
              "        }\n",
              "      </script>\n",
              "    </div>\n",
              "  </div>\n",
              "  "
            ]
          },
          "metadata": {},
          "execution_count": 49
        }
      ]
    },
    {
      "cell_type": "code",
      "metadata": {
        "colab": {
          "base_uri": "https://localhost:8080/",
          "height": 237
        },
        "id": "VwnEPyO2o3UT",
        "outputId": "f5757e77-164e-4f15-a833-2daf0b3821da",
        "cell_id": "00062-3074030d-741f-4643-aa41-d44744154a95",
        "deepnote_to_be_reexecuted": false,
        "source_hash": "a3460bbf",
        "execution_start": 1653484697461,
        "execution_millis": 579,
        "deepnote_cell_type": "code",
        "deepnote_cell_height": 410
      },
      "source": [
        "rfm_segmentation.head()"
      ],
      "outputs": [
        {
          "output_type": "execute_result",
          "data": {
            "text/plain": [
              "            Recency  Frequency  Monetary  R_Tertile  F_Tertile  M_Tertile  \\\n",
              "CustomerID                                                                  \n",
              "12747           109          5    191.85          2          3          3   \n",
              "12748            70         96   1054.43          3          3          3   \n",
              "12749           130          3     67.00          2          2          3   \n",
              "12820            74          1     15.00          3          1          1   \n",
              "12821           214          1     19.92          1          1          2   \n",
              "\n",
              "           RFM_Score        segment_name  \n",
              "CustomerID                                \n",
              "12747            233               LOYAL  \n",
              "12748            333            CHAMPION  \n",
              "12749            223  POTENTIAL LOYALIST  \n",
              "12820            311     RECENT CUSTOMER  \n",
              "12821            112      ABOUT TO SLEEP  "
            ],
            "text/html": [
              "\n",
              "  <div id=\"df-21f5fd37-0fce-4c44-8861-d328be4454ad\">\n",
              "    <div class=\"colab-df-container\">\n",
              "      <div>\n",
              "<style scoped>\n",
              "    .dataframe tbody tr th:only-of-type {\n",
              "        vertical-align: middle;\n",
              "    }\n",
              "\n",
              "    .dataframe tbody tr th {\n",
              "        vertical-align: top;\n",
              "    }\n",
              "\n",
              "    .dataframe thead th {\n",
              "        text-align: right;\n",
              "    }\n",
              "</style>\n",
              "<table border=\"1\" class=\"dataframe\">\n",
              "  <thead>\n",
              "    <tr style=\"text-align: right;\">\n",
              "      <th></th>\n",
              "      <th>Recency</th>\n",
              "      <th>Frequency</th>\n",
              "      <th>Monetary</th>\n",
              "      <th>R_Tertile</th>\n",
              "      <th>F_Tertile</th>\n",
              "      <th>M_Tertile</th>\n",
              "      <th>RFM_Score</th>\n",
              "      <th>segment_name</th>\n",
              "    </tr>\n",
              "    <tr>\n",
              "      <th>CustomerID</th>\n",
              "      <th></th>\n",
              "      <th></th>\n",
              "      <th></th>\n",
              "      <th></th>\n",
              "      <th></th>\n",
              "      <th></th>\n",
              "      <th></th>\n",
              "      <th></th>\n",
              "    </tr>\n",
              "  </thead>\n",
              "  <tbody>\n",
              "    <tr>\n",
              "      <th>12747</th>\n",
              "      <td>109</td>\n",
              "      <td>5</td>\n",
              "      <td>191.85</td>\n",
              "      <td>2</td>\n",
              "      <td>3</td>\n",
              "      <td>3</td>\n",
              "      <td>233</td>\n",
              "      <td>LOYAL</td>\n",
              "    </tr>\n",
              "    <tr>\n",
              "      <th>12748</th>\n",
              "      <td>70</td>\n",
              "      <td>96</td>\n",
              "      <td>1054.43</td>\n",
              "      <td>3</td>\n",
              "      <td>3</td>\n",
              "      <td>3</td>\n",
              "      <td>333</td>\n",
              "      <td>CHAMPION</td>\n",
              "    </tr>\n",
              "    <tr>\n",
              "      <th>12749</th>\n",
              "      <td>130</td>\n",
              "      <td>3</td>\n",
              "      <td>67.00</td>\n",
              "      <td>2</td>\n",
              "      <td>2</td>\n",
              "      <td>3</td>\n",
              "      <td>223</td>\n",
              "      <td>POTENTIAL LOYALIST</td>\n",
              "    </tr>\n",
              "    <tr>\n",
              "      <th>12820</th>\n",
              "      <td>74</td>\n",
              "      <td>1</td>\n",
              "      <td>15.00</td>\n",
              "      <td>3</td>\n",
              "      <td>1</td>\n",
              "      <td>1</td>\n",
              "      <td>311</td>\n",
              "      <td>RECENT CUSTOMER</td>\n",
              "    </tr>\n",
              "    <tr>\n",
              "      <th>12821</th>\n",
              "      <td>214</td>\n",
              "      <td>1</td>\n",
              "      <td>19.92</td>\n",
              "      <td>1</td>\n",
              "      <td>1</td>\n",
              "      <td>2</td>\n",
              "      <td>112</td>\n",
              "      <td>ABOUT TO SLEEP</td>\n",
              "    </tr>\n",
              "  </tbody>\n",
              "</table>\n",
              "</div>\n",
              "      <button class=\"colab-df-convert\" onclick=\"convertToInteractive('df-21f5fd37-0fce-4c44-8861-d328be4454ad')\"\n",
              "              title=\"Convert this dataframe to an interactive table.\"\n",
              "              style=\"display:none;\">\n",
              "        \n",
              "  <svg xmlns=\"http://www.w3.org/2000/svg\" height=\"24px\"viewBox=\"0 0 24 24\"\n",
              "       width=\"24px\">\n",
              "    <path d=\"M0 0h24v24H0V0z\" fill=\"none\"/>\n",
              "    <path d=\"M18.56 5.44l.94 2.06.94-2.06 2.06-.94-2.06-.94-.94-2.06-.94 2.06-2.06.94zm-11 1L8.5 8.5l.94-2.06 2.06-.94-2.06-.94L8.5 2.5l-.94 2.06-2.06.94zm10 10l.94 2.06.94-2.06 2.06-.94-2.06-.94-.94-2.06-.94 2.06-2.06.94z\"/><path d=\"M17.41 7.96l-1.37-1.37c-.4-.4-.92-.59-1.43-.59-.52 0-1.04.2-1.43.59L10.3 9.45l-7.72 7.72c-.78.78-.78 2.05 0 2.83L4 21.41c.39.39.9.59 1.41.59.51 0 1.02-.2 1.41-.59l7.78-7.78 2.81-2.81c.8-.78.8-2.07 0-2.86zM5.41 20L4 18.59l7.72-7.72 1.47 1.35L5.41 20z\"/>\n",
              "  </svg>\n",
              "      </button>\n",
              "      \n",
              "  <style>\n",
              "    .colab-df-container {\n",
              "      display:flex;\n",
              "      flex-wrap:wrap;\n",
              "      gap: 12px;\n",
              "    }\n",
              "\n",
              "    .colab-df-convert {\n",
              "      background-color: #E8F0FE;\n",
              "      border: none;\n",
              "      border-radius: 50%;\n",
              "      cursor: pointer;\n",
              "      display: none;\n",
              "      fill: #1967D2;\n",
              "      height: 32px;\n",
              "      padding: 0 0 0 0;\n",
              "      width: 32px;\n",
              "    }\n",
              "\n",
              "    .colab-df-convert:hover {\n",
              "      background-color: #E2EBFA;\n",
              "      box-shadow: 0px 1px 2px rgba(60, 64, 67, 0.3), 0px 1px 3px 1px rgba(60, 64, 67, 0.15);\n",
              "      fill: #174EA6;\n",
              "    }\n",
              "\n",
              "    [theme=dark] .colab-df-convert {\n",
              "      background-color: #3B4455;\n",
              "      fill: #D2E3FC;\n",
              "    }\n",
              "\n",
              "    [theme=dark] .colab-df-convert:hover {\n",
              "      background-color: #434B5C;\n",
              "      box-shadow: 0px 1px 3px 1px rgba(0, 0, 0, 0.15);\n",
              "      filter: drop-shadow(0px 1px 2px rgba(0, 0, 0, 0.3));\n",
              "      fill: #FFFFFF;\n",
              "    }\n",
              "  </style>\n",
              "\n",
              "      <script>\n",
              "        const buttonEl =\n",
              "          document.querySelector('#df-21f5fd37-0fce-4c44-8861-d328be4454ad button.colab-df-convert');\n",
              "        buttonEl.style.display =\n",
              "          google.colab.kernel.accessAllowed ? 'block' : 'none';\n",
              "\n",
              "        async function convertToInteractive(key) {\n",
              "          const element = document.querySelector('#df-21f5fd37-0fce-4c44-8861-d328be4454ad');\n",
              "          const dataTable =\n",
              "            await google.colab.kernel.invokeFunction('convertToInteractive',\n",
              "                                                     [key], {});\n",
              "          if (!dataTable) return;\n",
              "\n",
              "          const docLinkHtml = 'Like what you see? Visit the ' +\n",
              "            '<a target=\"_blank\" href=https://colab.research.google.com/notebooks/data_table.ipynb>data table notebook</a>'\n",
              "            + ' to learn more about interactive tables.';\n",
              "          element.innerHTML = '';\n",
              "          dataTable['output_type'] = 'display_data';\n",
              "          await google.colab.output.renderOutput(dataTable, element);\n",
              "          const docLink = document.createElement('div');\n",
              "          docLink.innerHTML = docLinkHtml;\n",
              "          element.appendChild(docLink);\n",
              "        }\n",
              "      </script>\n",
              "    </div>\n",
              "  </div>\n",
              "  "
            ]
          },
          "metadata": {},
          "execution_count": 50
        }
      ],
      "execution_count": 50
    },
    {
      "cell_type": "code",
      "metadata": {
        "id": "NXp4iztYpHcf",
        "colab": {
          "base_uri": "https://localhost:8080/"
        },
        "outputId": "6fa41181-384e-4400-d907-03df13946371",
        "cell_id": "00063-2fe656ee-9bbb-42f1-889e-0d06d9399cf6",
        "deepnote_to_be_reexecuted": false,
        "source_hash": "7d4830ed",
        "execution_start": 1653484697650,
        "execution_millis": 391,
        "deepnote_cell_type": "code",
        "deepnote_cell_height": 290.875,
        "deepnote_output_heights": [
          193.875
        ]
      },
      "source": [
        "rfm_segmentation[['segment_name']].value_counts()"
      ],
      "outputs": [
        {
          "output_type": "execute_result",
          "data": {
            "text/plain": [
              "segment_name      \n",
              "ABOUT TO SLEEP        716\n",
              "LOST CUSTOMER         460\n",
              "CHAMPION              352\n",
              "LOYAL                 334\n",
              "AVERAGE               306\n",
              "POTENTIAL LOYALIST    283\n",
              "RECENT CUSTOMER       260\n",
              "CANNOT LOOSE THEM      93\n",
              "dtype: int64"
            ]
          },
          "metadata": {},
          "execution_count": 51
        }
      ],
      "execution_count": 51
    },
    {
      "cell_type": "code",
      "source": [
        "ax = sns.countplot(y=\"segment_name\", data=rfm_segmentation, linewidth=2.5, facecolor=(1, 1, 1, 0), edgecolor=\".2\")"
      ],
      "metadata": {
        "colab": {
          "base_uri": "https://localhost:8080/",
          "height": 279
        },
        "id": "lq78hwr6hU-q",
        "outputId": "5f1cc202-a31f-47b6-a0d2-ca39a12d1b5d"
      },
      "execution_count": 52,
      "outputs": [
        {
          "output_type": "display_data",
          "data": {
            "text/plain": [
              "<Figure size 432x288 with 1 Axes>"
            ],
            "image/png": "[encoded data removed]"
          },
          "metadata": {
            "needs_background": "light"
          }
        }
      ]
    },
    {
      "cell_type": "code",
      "metadata": {
        "colab": {
          "base_uri": "https://localhost:8080/"
        },
        "id": "WYbQNgwgpgBT",
        "outputId": "94eecb3f-2172-455b-b459-541f325c53f0",
        "cell_id": "00064-ab78052e-02b2-4cd3-a926-8af09a886905",
        "deepnote_to_be_reexecuted": false,
        "source_hash": "2ed43b02",
        "execution_start": 1653484697698,
        "execution_millis": 347,
        "deepnote_cell_type": "code",
        "deepnote_cell_height": 290.875,
        "deepnote_output_heights": [
          193.875
        ]
      },
      "source": [
        "rfm_segmentation.groupby('segment_name')['Monetary'].sum()"
      ],
      "outputs": [
        {
          "output_type": "execute_result",
          "data": {
            "text/plain": [
              "segment_name\n",
              "ABOUT TO SLEEP         35825.10\n",
              "AVERAGE                16263.10\n",
              "CANNOT LOOSE THEM      58931.01\n",
              "CHAMPION              254017.41\n",
              "LOST CUSTOMER           5223.79\n",
              "LOYAL                  84726.89\n",
              "POTENTIAL LOYALIST     29871.22\n",
              "RECENT CUSTOMER        10362.94\n",
              "Name: Monetary, dtype: float64"
            ]
          },
          "metadata": {},
          "execution_count": 53
        }
      ],
      "execution_count": 53
    },
    {
      "cell_type": "code",
      "source": [
        "import matplotlib.pyplot as plt\n",
        "import seaborn as sns\n",
        "\n",
        "#set seaborn plotting aesthetics\n",
        "sns.set(style='white')\n",
        "\n",
        "sns.barplot(x = \"Monetary\", y = \"segment_name\", data = rfm_segmentation ,linewidth=2.5, facecolor=(1, 1, 1, 0),\n",
        "                 errcolor=\".2\", edgecolor=\".2\")\n",
        "            \n",
        "plt.show()"
      ],
      "metadata": {
        "colab": {
          "base_uri": "https://localhost:8080/",
          "height": 285
        },
        "id": "BAyFfU-GfOQG",
        "outputId": "ebcb9750-441d-4314-8854-dabcea007142"
      },
      "execution_count": 54,
      "outputs": [
        {
          "output_type": "display_data",
          "data": {
            "text/plain": [
              "<Figure size 432x288 with 1 Axes>"
            ],
            "image/png": "[encoded data removed]"
          },
          "metadata": {}
        }
      ]
    },
    {
      "cell_type": "code",
      "source": [
        "import matplotlib.pyplot as plt\n",
        "import seaborn as sns\n",
        "\n",
        "#set seaborn plotting aesthetics\n",
        "sns.set(style='white')\n",
        "\n",
        "sns.barplot(x = \"Frequency\", y = \"segment_name\", data = rfm_segmentation ,linewidth=2.5, facecolor=(1, 1, 1, 0),\n",
        "                 errcolor=\".2\", edgecolor=\".2\")\n",
        "            \n",
        "plt.show()"
      ],
      "metadata": {
        "colab": {
          "base_uri": "https://localhost:8080/",
          "height": 285
        },
        "id": "RDFr32IbgcrH",
        "outputId": "9a8eda72-476e-49e4-ae47-0eaae69ae669"
      },
      "execution_count": 55,
      "outputs": [
        {
          "output_type": "display_data",
          "data": {
            "text/plain": [
              "<Figure size 432x288 with 1 Axes>"
            ],
            "image/png": "[encoded data removed]"
          },
          "metadata": {}
        }
      ]
    },
    {
      "cell_type": "code",
      "source": [
        "import matplotlib.pyplot as plt\n",
        "import seaborn as sns\n",
        "\n",
        "#set seaborn plotting aesthetics\n",
        "sns.set(style='white')\n",
        "\n",
        "sns.barplot(x = \"Recency\", y = \"segment_name\", data = rfm_segmentation ,linewidth=2.5, facecolor=(1, 1, 1, 0),\n",
        "                 errcolor=\".2\", edgecolor=\".2\")\n",
        "            \n",
        "plt.show()"
      ],
      "metadata": {
        "colab": {
          "base_uri": "https://localhost:8080/",
          "height": 285
        },
        "id": "sFClpd2Sg9hd",
        "outputId": "4e4fdb61-df67-45f0-b31e-44d6747065f6"
      },
      "execution_count": 56,
      "outputs": [
        {
          "output_type": "display_data",
          "data": {
            "text/plain": [
              "<Figure size 432x288 with 1 Axes>"
            ],
            "image/png": "[encoded data removed]"
          },
          "metadata": {}
        }
      ]
    }
  ],
  "nbformat": 4,
  "nbformat_minor": 0,
  "metadata": {
    "kernelspec": {
      "display_name": "Python 3",
      "language": "python",
      "name": "python3"
    },
    "language_info": {
      "name": "python",
      "version": "3.6.4",
      "mimetype": "text/x-python",
      "codemirror_mode": {
        "name": "ipython",
        "version": 3
      },
      "pygments_lexer": "ipython3",
      "nbconvert_exporter": "python",
      "file_extension": ".py"
    },
    "colab": {
      "provenance": [],
      "collapsed_sections": []
    },
    "deepnote_notebook_id": "71dad2ef-2d3d-43b9-b8e9-8a6422a9fa4a",
    "deepnote": {},
    "deepnote_execution_queue": []
  }
}